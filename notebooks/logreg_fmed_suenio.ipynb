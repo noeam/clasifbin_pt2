{
 "cells": [
  {
   "cell_type": "markdown",
   "source": [
    "# Regresión Logística (5-CrossValidation) 1787 observaciones solamente ejercicio."
   ],
   "metadata": {
    "collapsed": false
   }
  },
  {
   "cell_type": "code",
   "execution_count": 1,
   "outputs": [],
   "source": [
    "import pandas as pd\n",
    "from sklearn.linear_model import LogisticRegression\n",
    "from sklearn.model_selection import KFold\n",
    "from sklearn.metrics import accuracy_score, precision_score, recall_score, f1_score, roc_curve, roc_auc_score, auc\n",
    "import matplotlib.pyplot as plt\n",
    "from sklearn.preprocessing import OneHotEncoder"
   ],
   "metadata": {
    "collapsed": false,
    "ExecuteTime": {
     "end_time": "2023-05-17T02:02:30.985067800Z",
     "start_time": "2023-05-17T02:02:29.395475400Z"
    }
   }
  },
  {
   "cell_type": "code",
   "execution_count": 8,
   "outputs": [
    {
     "data": {
      "text/plain": "         obesidad\ncount  714.000000\nmean     0.308123\nstd      0.462041\nmin      0.000000\n25%      0.000000\n50%      0.000000\n75%      1.000000\nmax      1.000000",
      "text/html": "<div>\n<style scoped>\n    .dataframe tbody tr th:only-of-type {\n        vertical-align: middle;\n    }\n\n    .dataframe tbody tr th {\n        vertical-align: top;\n    }\n\n    .dataframe thead th {\n        text-align: right;\n    }\n</style>\n<table border=\"1\" class=\"dataframe\">\n  <thead>\n    <tr style=\"text-align: right;\">\n      <th></th>\n      <th>obesidad</th>\n    </tr>\n  </thead>\n  <tbody>\n    <tr>\n      <th>count</th>\n      <td>714.000000</td>\n    </tr>\n    <tr>\n      <th>mean</th>\n      <td>0.308123</td>\n    </tr>\n    <tr>\n      <th>std</th>\n      <td>0.462041</td>\n    </tr>\n    <tr>\n      <th>min</th>\n      <td>0.000000</td>\n    </tr>\n    <tr>\n      <th>25%</th>\n      <td>0.000000</td>\n    </tr>\n    <tr>\n      <th>50%</th>\n      <td>0.000000</td>\n    </tr>\n    <tr>\n      <th>75%</th>\n      <td>1.000000</td>\n    </tr>\n    <tr>\n      <th>max</th>\n      <td>1.000000</td>\n    </tr>\n  </tbody>\n</table>\n</div>"
     },
     "execution_count": 8,
     "metadata": {},
     "output_type": "execute_result"
    }
   ],
   "source": [
    "# Load the dataset\n",
    "datos = pd.read_csv('C:/Users/noeam/Documents/git/github/proyecto_pt2/outputs/fmed_seleccionadas.csv')\n",
    "datos.describe()\n",
    "\n",
    "# Split the dataset into features (X) and target variable (y)\n",
    "X = datos[['ejer_act', 'ejer_1', 'ejer_5', 'suenio_act', 'suenio_1', 'suenio_5']]\n",
    "y = datos['obesidad']\n",
    "\n",
    "# Perform one-hot encoding on the categorical variables\n",
    "encoder = OneHotEncoder(drop='first')\n",
    "X_encoded = encoder.fit_transform(X).toarray()\n",
    "\n",
    "# Perform K-fold cross-validation\n",
    "k = 5  # Number of folds\n",
    "kf = KFold(n_splits=k, shuffle=True, random_state=42)\n",
    "\n",
    "accuracy_scores = []\n",
    "precision_scores = []\n",
    "recall_scores = []\n",
    "f1_scores = []\n",
    "roc_auc_scores = []\n",
    "fprs = []\n",
    "tprs = []\n",
    "\n",
    "j = 0\n",
    "for train_index, test_index in kf.split(X_encoded):\n",
    "    # Split the data into training and testing sets for each fold\n",
    "    X_train, X_test = X_encoded[train_index], X_encoded[test_index]\n",
    "    y_train, y_test = y.iloc[train_index], y.iloc[test_index]\n",
    "\n",
    "    # Fit logistic regression model\n",
    "    model = LogisticRegression()\n",
    "    model.fit(X_train, y_train)\n",
    "\n",
    "    # Predict the target variable for the test set\n",
    "    y_pred = model.predict(X_test)\n",
    "\n",
    "    # Compute evaluation metrics\n",
    "    accuracy = accuracy_score(y_test, y_pred)\n",
    "    precision = precision_score(y_test, y_pred)\n",
    "    recall = recall_score(y_test, y_pred)\n",
    "    f1 = f1_score(y_test, y_pred)\n",
    "    roc_auc = roc_auc_score(y_test, y_pred)\n",
    "\n",
    "    accuracy_scores.append(accuracy)\n",
    "    precision_scores.append(precision)\n",
    "    recall_scores.append(recall)\n",
    "    f1_scores.append(f1)\n",
    "    roc_auc_scores.append(roc_auc)\n",
    "\n",
    "    # Compute ROC curve\n",
    "    fpr, tpr, _ = roc_curve(y_test, y_pred)\n",
    "    fprs.append(fpr)\n",
    "    tprs.append(tpr)\n",
    "    roc_auc = auc(fpr, tpr)\n",
    "\n",
    "    # Plot ROC curve\n",
    "    plt.plot(fpr, tpr, lw=0.25, alpha=0.25, label=f\"ROC fold %d (AUC=%0.3f)\" % (j + 1, roc_auc))\n",
    "    j = j + 1\n",
    "\n",
    "# Compute average evaluation metrics\n",
    "average_accuracy = sum(accuracy_scores) / k\n",
    "average_precision = sum(precision_scores) / k\n",
    "average_recall = sum(recall_scores) / k\n",
    "average_f1 = sum(f1_scores) / k\n",
    "average_roc_auc = sum(roc_auc_scores) / k\n",
    "\n",
    "# Plot average ROC curve\n",
    "mean_fpr = sum(fprs) / k\n",
    "mean_tpr = sum(tprs) / k\n",
    "plt.plot(mean_fpr, mean_tpr, label='Mean ROC (AUC=%0.3f)' % (average_roc_auc), color= 'blue', lw=2)\n",
    "plt.plot([0, 1], [0, 1], linestyle='--', color='gray', label='Random')\n",
    "plt.xlabel('False Positive Rate')\n",
    "plt.ylabel('True Positive Rate')\n",
    "plt.title('Receiver Operating Characteristic')\n",
    "plt.legend()\n",
    "plt.show()\n",
    "\n",
    "# Print the evaluation metrics\n",
    "print(f\"Average Accuracy: {average_accuracy}\")\n",
    "print(f\"Average Precision: {average_precision}\")\n",
    "print(f\"Average Recall: {average_recall}\")\n",
    "print(f\"Average F1 Score: {average_f1}\")\n",
    "print(f\"Average ROC AUC: {average_roc_auc}\")\n"
   ],
   "metadata": {
    "collapsed": false,
    "ExecuteTime": {
     "end_time": "2023-05-17T03:43:53.910290400Z",
     "start_time": "2023-05-17T03:43:53.878020700Z"
    }
   }
  },
  {
   "cell_type": "code",
   "execution_count": 3,
   "outputs": [],
   "source": [],
   "metadata": {
    "collapsed": false,
    "ExecuteTime": {
     "end_time": "2023-05-17T02:02:31.315378500Z",
     "start_time": "2023-05-17T02:02:31.302176800Z"
    }
   }
  },
  {
   "cell_type": "code",
   "execution_count": 11,
   "outputs": [
    {
     "name": "stderr",
     "output_type": "stream",
     "text": [
      "C:\\Users\\noeam\\.virtualenvs\\proyecto_pt2\\lib\\site-packages\\sklearn\\metrics\\_classification.py:1344: UndefinedMetricWarning: Precision is ill-defined and being set to 0.0 due to no predicted samples. Use `zero_division` parameter to control this behavior.\n",
      "  _warn_prf(average, modifier, msg_start, len(result))\n",
      "C:\\Users\\noeam\\.virtualenvs\\proyecto_pt2\\lib\\site-packages\\sklearn\\metrics\\_classification.py:1344: UndefinedMetricWarning: Precision is ill-defined and being set to 0.0 due to no predicted samples. Use `zero_division` parameter to control this behavior.\n",
      "  _warn_prf(average, modifier, msg_start, len(result))\n",
      "C:\\Users\\noeam\\.virtualenvs\\proyecto_pt2\\lib\\site-packages\\sklearn\\metrics\\_classification.py:1344: UndefinedMetricWarning: Precision is ill-defined and being set to 0.0 due to no predicted samples. Use `zero_division` parameter to control this behavior.\n",
      "  _warn_prf(average, modifier, msg_start, len(result))\n",
      "C:\\Users\\noeam\\.virtualenvs\\proyecto_pt2\\lib\\site-packages\\sklearn\\metrics\\_classification.py:1344: UndefinedMetricWarning: Precision is ill-defined and being set to 0.0 due to no predicted samples. Use `zero_division` parameter to control this behavior.\n",
      "  _warn_prf(average, modifier, msg_start, len(result))\n",
      "C:\\Users\\noeam\\.virtualenvs\\proyecto_pt2\\lib\\site-packages\\sklearn\\metrics\\_classification.py:1344: UndefinedMetricWarning: Precision is ill-defined and being set to 0.0 due to no predicted samples. Use `zero_division` parameter to control this behavior.\n",
      "  _warn_prf(average, modifier, msg_start, len(result))\n"
     ]
    },
    {
     "ename": "ValueError",
     "evalue": "operands could not be broadcast together with shapes (2,) (3,) ",
     "output_type": "error",
     "traceback": [
      "\u001B[1;31m---------------------------------------------------------------------------\u001B[0m",
      "\u001B[1;31mValueError\u001B[0m                                Traceback (most recent call last)",
      "Cell \u001B[1;32mIn[11], line 96\u001B[0m\n\u001B[0;32m     93\u001B[0m average_roc_auc \u001B[38;5;241m=\u001B[39m \u001B[38;5;28msum\u001B[39m(roc_auc_scores) \u001B[38;5;241m/\u001B[39m k\n\u001B[0;32m     95\u001B[0m \u001B[38;5;66;03m# Plot average ROC curve\u001B[39;00m\n\u001B[1;32m---> 96\u001B[0m mean_fpr \u001B[38;5;241m=\u001B[39m \u001B[38;5;28;43msum\u001B[39;49m\u001B[43m(\u001B[49m\u001B[43mfprs\u001B[49m\u001B[43m)\u001B[49m \u001B[38;5;241m/\u001B[39m k\n\u001B[0;32m     97\u001B[0m mean_tpr \u001B[38;5;241m=\u001B[39m \u001B[38;5;28msum\u001B[39m(tprs) \u001B[38;5;241m/\u001B[39m k\n\u001B[0;32m     98\u001B[0m plt\u001B[38;5;241m.\u001B[39mplot(mean_fpr, mean_tpr, label\u001B[38;5;241m=\u001B[39m\u001B[38;5;124m'\u001B[39m\u001B[38;5;124mMean ROC (AUC=\u001B[39m\u001B[38;5;132;01m%0.3f\u001B[39;00m\u001B[38;5;124m)\u001B[39m\u001B[38;5;124m'\u001B[39m \u001B[38;5;241m%\u001B[39m (average_roc_auc), color\u001B[38;5;241m=\u001B[39m\u001B[38;5;124m'\u001B[39m\u001B[38;5;124mblue\u001B[39m\u001B[38;5;124m'\u001B[39m, lw\u001B[38;5;241m=\u001B[39m\u001B[38;5;241m2\u001B[39m)\n",
      "\u001B[1;31mValueError\u001B[0m: operands could not be broadcast together with shapes (2,) (3,) "
     ]
    },
    {
     "data": {
      "text/plain": "<Figure size 640x480 with 1 Axes>",
      "image/png": "[encoded data removed]"
     },
     "metadata": {},
     "output_type": "display_data"
    }
   ],
   "source": [
    "# Import necessary libraries\n",
    "from sklearn.model_selection import train_test_split\n",
    "from sklearn.preprocessing import OneHotEncoder\n",
    "from sklearn.linear_model import LogisticRegression\n",
    "from sklearn.metrics import accuracy_score, precision_score, recall_score, f1_score, roc_auc_score, roc_curve, auc, confusion_matrix\n",
    "from sklearn.model_selection import KFold\n",
    "import matplotlib.pyplot as plt\n",
    "\n",
    "# Load the dataset\n",
    "datos = pd.read_csv('C:/Users/noeam/Documents/git/github/proyecto_pt2/outputs/fmed_seleccionadas.csv')\n",
    "\n",
    "# Split the dataset into features (X) and target variable (y)\n",
    "X = datos[['ejer_act', 'ejer_1', 'ejer_5', 'suenio_act', 'suenio_1', 'suenio_5']]\n",
    "y = datos['obesidad']\n",
    "\n",
    "# Perform one-hot encoding on the categorical variables\n",
    "encoder = OneHotEncoder(drop='first')\n",
    "X_encoded = encoder.fit_transform(X).toarray()\n",
    "\n",
    "# Set the test size for train-test split\n",
    "test_size = 0.4  # Percentage for the test set\n",
    "\n",
    "# Split the data into training and testing sets\n",
    "X_train, X_test, y_train, y_test = train_test_split(X_encoded, y, test_size=test_size, random_state=42)\n",
    "\n",
    "# Perform K-fold cross-validation on the training set\n",
    "k = 5  # Number of folds\n",
    "kf = KFold(n_splits=k, shuffle=True, random_state=42)\n",
    "\n",
    "accuracy_scores = []\n",
    "precision_scores = []\n",
    "recall_scores = []\n",
    "f1_scores = []\n",
    "roc_auc_scores = []\n",
    "fprs = []\n",
    "tprs = []\n",
    "\n",
    "j = 0\n",
    "for train_index, val_index in kf.split(X_train):\n",
    "    # Split the training set into training and validation sets for each fold\n",
    "    X_fold_train, X_val = X_train[train_index], X_train[val_index]\n",
    "    y_fold_train, y_val = y_train.iloc[train_index], y_train.iloc[val_index]\n",
    "\n",
    "    # Fit logistic regression model\n",
    "    model = LogisticRegression()\n",
    "    model.fit(X_fold_train, y_fold_train)\n",
    "\n",
    "    # Predict the target variable for the validation set\n",
    "    y_pred = model.predict(X_val)\n",
    "\n",
    "    # Compute evaluation metrics for the validation set\n",
    "    accuracy = accuracy_score(y_val, y_pred)\n",
    "    precision = precision_score(y_val, y_pred)\n",
    "    recall = recall_score(y_val, y_pred)\n",
    "    f1 = f1_score(y_val, y_pred)\n",
    "    roc_auc = roc_auc_score(y_val, y_pred)\n",
    "\n",
    "    accuracy_scores.append(accuracy)\n",
    "    precision_scores.append(precision)\n",
    "    recall_scores.append(recall)\n",
    "    f1_scores.append(f1)\n",
    "    roc_auc_scores.append(roc_auc)\n",
    "\n",
    "    # Compute ROC curve for the validation set\n",
    "    fpr, tpr, _ = roc_curve(y_val, y_pred)\n",
    "    fprs.append(fpr)\n",
    "    tprs.append(tpr)\n",
    "    roc_auc = auc(fpr, tpr)\n",
    "\n",
    "    # Plot ROC curve\n",
    "    plt.plot(fpr, tpr, lw=0.25, alpha=0.25, label=f\"ROC fold %d (AUC=%0.3f)\" % (j + 1, roc_auc))\n",
    "    j = j + 1\n",
    "\n",
    "# Fit logistic regression model on the entire training set\n",
    "model = LogisticRegression()\n",
    "model.fit(X_train, y_train)\n",
    "\n",
    "# Predict the target variable for the test set\n",
    "y_pred_test = model.predict(X_test)\n",
    "\n",
    "# Compute evaluation metrics for the test set\n",
    "test_accuracy = accuracy_score(y_test, y_pred_test)\n",
    "test_precision = precision_score(y_test, y_pred_test)\n",
    "test_recall = recall_score(y_test, y_pred_test)\n",
    "test_f1 = f1_score(y_test, y_pred_test)\n",
    "test_roc_auc = roc_auc_score(y_test, y_pred_test)\n",
    "\n",
    "# Compute average evaluation metrics\n",
    "average_accuracy = sum(accuracy_scores) / k\n",
    "average_precision = sum(precision_scores) / k\n",
    "average_recall = sum(recall_scores) / k\n",
    "average_f1 = sum(f1_scores) / k\n",
    "average_roc_auc = sum(roc_auc_scores) / k\n",
    "\n",
    "# Plot average ROC curve\n",
    "mean_fpr = sum(fprs) / k\n",
    "mean_tpr = sum(tprs) / k\n",
    "plt.plot(mean_fpr, mean_tpr, label='Mean ROC (AUC=%0.3f)' % (average_roc_auc), color='blue', lw=2)\n",
    "plt.plot([0, 1], [0, 1], linestyle='--', color='gray', label='Random')\n",
    "plt.xlabel('False Positive Rate')\n",
    "plt.ylabel('True Positive Rate')\n",
    "plt.title('Receiver Operating Characteristic')\n",
    "plt.legend()\n",
    "plt.show()\n",
    "\n",
    "# Print the evaluation metrics\n",
    "print(f\"Average Accuracy: {average_accuracy}\")\n",
    "print(f\"Average Precision: {average_precision}\")\n",
    "print(f\"Average Recall: {average_recall}\")\n",
    "print(f\"Average F1 Score: {average_f1}\")\n",
    "print(f\"Average ROC AUC: {average_roc_auc}\")\n",
    "\n",
    "# Print the evaluation metrics for the test set\n",
    "print(\"Test Accuracy:\", test_accuracy)\n",
    "print(\"Test Precision:\", test_precision)\n",
    "print(\"Test Recall:\", test_recall)\n",
    "print(\"Test F1 Score:\", test_f1)\n",
    "print(\"Test ROC AUC Score:\", test_roc_auc)"
   ],
   "metadata": {
    "collapsed": false,
    "ExecuteTime": {
     "end_time": "2023-05-17T04:04:47.499300500Z",
     "start_time": "2023-05-17T04:04:47.232307700Z"
    }
   }
  },
  {
   "cell_type": "code",
   "execution_count": null,
   "outputs": [],
   "source": [],
   "metadata": {
    "collapsed": false
   }
  }
 ],
 "metadata": {
  "kernelspec": {
   "display_name": "Python 3",
   "language": "python",
   "name": "python3"
  },
  "language_info": {
   "codemirror_mode": {
    "name": "ipython",
    "version": 2
   },
   "file_extension": ".py",
   "mimetype": "text/x-python",
   "name": "python",
   "nbconvert_exporter": "python",
   "pygments_lexer": "ipython2",
   "version": "2.7.6"
  }
 },
 "nbformat": 4,
 "nbformat_minor": 0
}
