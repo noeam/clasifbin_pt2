{
 "cells": [
  {
   "cell_type": "markdown",
   "source": [
    "# Carga de datos y limpieza"
   ],
   "metadata": {
    "collapsed": false
   }
  },
  {
   "cell_type": "code",
   "execution_count": 1,
   "outputs": [],
   "source": [
    "import pandas as pd"
   ],
   "metadata": {
    "collapsed": false,
    "ExecuteTime": {
     "start_time": "2023-05-03T19:20:59.998005Z",
     "end_time": "2023-05-03T19:21:00.440337Z"
    }
   }
  },
  {
   "cell_type": "code",
   "execution_count": 2,
   "outputs": [
    {
     "data": {
      "text/plain": "      tipo_ejer_1ano_aerobics  tipo_ejercicio_10anos_aerobics   \n0                           0                               0  \\\n1                           0                               0   \n2                           0                               0   \n3                           0                               0   \n4                           0                               0   \n...                       ...                             ...   \n1070                        0                               0   \n1071                        0                               0   \n1072                        0                               0   \n1073                        0                               0   \n1074                        0                               0   \n\n      tipo_ejercicio_20anos_aerobics  tipo_ejercicio_30anos_aerobics   \n0                                  0                               0  \\\n1                                  1                               0   \n2                                  0                               0   \n3                                  0                               0   \n4                                  0                               0   \n...                              ...                             ...   \n1070                               0                               0   \n1071                               0                               0   \n1072                               0                               0   \n1073                               0                               0   \n1074                               0                               0   \n\n      tipo_ejer_5anos_aerobics  tipo_ejer_actual_aerobics   \n0                            0                          0  \\\n1                            0                          0   \n2                            0                          0   \n3                            0                          0   \n4                            0                          0   \n...                        ...                        ...   \n1070                         0                          1   \n1071                         0                          0   \n1072                         0                          0   \n1073                         0                          0   \n1074                         0                          0   \n\n      cantidad_alcohol_x_semana  tiene_diab_amigo_10  edad_amigo_10   \n0                             2                  NaN            NaN  \\\n1                             1                  0.0           46.0   \n2                             2                  NaN            NaN   \n3                             0                  NaN            NaN   \n4                             1                  NaN            NaN   \n...                         ...                  ...            ...   \n1070                          0                  NaN            NaN   \n1071                          0                  NaN            NaN   \n1072                         10                  NaN            NaN   \n1073                          0                  NaN            NaN   \n1074                          4                  NaN            NaN   \n\n      tiene_sobrep_obesidad_amigo_10  ...  has_fumado   \n0                                NaN  ...           0  \\\n1                                0.0  ...           5   \n2                                NaN  ...          18   \n3                                NaN  ...          10   \n4                                NaN  ...          52   \n...                              ...  ...         ...   \n1070                             NaN  ...           0   \n1071                             NaN  ...           0   \n1072                             NaN  ...           0   \n1073                             NaN  ...           0   \n1074                             NaN  ...           2   \n\n      cambio_habitos_probabilidad_dm  acido_urico  acido_urico_categorias   \n0                                  2         35.0                  NORMAL  \\\n1                                  1         52.0                  NORMAL   \n2                                  1          6.0                  NORMAL   \n3                                  1          7.0                  NORMAL   \n4                                  1         56.0                  NORMAL   \n...                              ...          ...                     ...   \n1070                               2         54.0                  NORMAL   \n1071                               1         35.0                  NORMAL   \n1072                               2         63.0                  NORMAL   \n1073                               1         61.0                  NORMAL   \n1074                               2         87.0            ALTO CRITICO   \n\n      porc_mexicanos_obesidad_intervalos  cantidad_calorias_1L_refresco_cat   \n0                                      c                                  0  \\\n1                                      e                                  0   \n2                                      0                                  a   \n3                                      d                                  0   \n4                                      0                                  0   \n...                                  ...                                ...   \n1070                                   c                                  b   \n1071                                   0                                  0   \n1072                                   c                                  a   \n1073                                   d                                  c   \n1074                                   0                                  0   \n\n      cantidad_calorias_1L_agua_cat  veces_come_fueradecasa_actual   \n0                                 a                              a  \\\n1                                 0                              a   \n2                                 a                              a   \n3                                 0                              a   \n4                                 a                              b   \n...                             ...                            ...   \n1070                              a                              a   \n1071                              0                              c   \n1072                              a                              c   \n1073                              a                              a   \n1074                              a                              b   \n\n      veces_come_fueradecasa_1anio  veces_come_fueradecasa_5anios  \n0                                a                              a  \n1                                b                              a  \n2                                a                              c  \n3                                a                              a  \n4                                b                              a  \n...                            ...                            ...  \n1070                             a                              a  \n1071                             b                              b  \n1072                             c                              c  \n1073                             a                              a  \n1074                             b                              b  \n\n[1075 rows x 987 columns]",
      "text/html": "<div>\n<style scoped>\n    .dataframe tbody tr th:only-of-type {\n        vertical-align: middle;\n    }\n\n    .dataframe tbody tr th {\n        vertical-align: top;\n    }\n\n    .dataframe thead th {\n        text-align: right;\n    }\n</style>\n<table border=\"1\" class=\"dataframe\">\n  <thead>\n    <tr style=\"text-align: right;\">\n      <th></th>\n      <th>tipo_ejer_1ano_aerobics</th>\n      <th>tipo_ejercicio_10anos_aerobics</th>\n      <th>tipo_ejercicio_20anos_aerobics</th>\n      <th>tipo_ejercicio_30anos_aerobics</th>\n      <th>tipo_ejer_5anos_aerobics</th>\n      <th>tipo_ejer_actual_aerobics</th>\n      <th>cantidad_alcohol_x_semana</th>\n      <th>tiene_diab_amigo_10</th>\n      <th>edad_amigo_10</th>\n      <th>tiene_sobrep_obesidad_amigo_10</th>\n      <th>...</th>\n      <th>has_fumado</th>\n      <th>cambio_habitos_probabilidad_dm</th>\n      <th>acido_urico</th>\n      <th>acido_urico_categorias</th>\n      <th>porc_mexicanos_obesidad_intervalos</th>\n      <th>cantidad_calorias_1L_refresco_cat</th>\n      <th>cantidad_calorias_1L_agua_cat</th>\n      <th>veces_come_fueradecasa_actual</th>\n      <th>veces_come_fueradecasa_1anio</th>\n      <th>veces_come_fueradecasa_5anios</th>\n    </tr>\n  </thead>\n  <tbody>\n    <tr>\n      <th>0</th>\n      <td>0</td>\n      <td>0</td>\n      <td>0</td>\n      <td>0</td>\n      <td>0</td>\n      <td>0</td>\n      <td>2</td>\n      <td>NaN</td>\n      <td>NaN</td>\n      <td>NaN</td>\n      <td>...</td>\n      <td>0</td>\n      <td>2</td>\n      <td>35.0</td>\n      <td>NORMAL</td>\n      <td>c</td>\n      <td>0</td>\n      <td>a</td>\n      <td>a</td>\n      <td>a</td>\n      <td>a</td>\n    </tr>\n    <tr>\n      <th>1</th>\n      <td>0</td>\n      <td>0</td>\n      <td>1</td>\n      <td>0</td>\n      <td>0</td>\n      <td>0</td>\n      <td>1</td>\n      <td>0.0</td>\n      <td>46.0</td>\n      <td>0.0</td>\n      <td>...</td>\n      <td>5</td>\n      <td>1</td>\n      <td>52.0</td>\n      <td>NORMAL</td>\n      <td>e</td>\n      <td>0</td>\n      <td>0</td>\n      <td>a</td>\n      <td>b</td>\n      <td>a</td>\n    </tr>\n    <tr>\n      <th>2</th>\n      <td>0</td>\n      <td>0</td>\n      <td>0</td>\n      <td>0</td>\n      <td>0</td>\n      <td>0</td>\n      <td>2</td>\n      <td>NaN</td>\n      <td>NaN</td>\n      <td>NaN</td>\n      <td>...</td>\n      <td>18</td>\n      <td>1</td>\n      <td>6.0</td>\n      <td>NORMAL</td>\n      <td>0</td>\n      <td>a</td>\n      <td>a</td>\n      <td>a</td>\n      <td>a</td>\n      <td>c</td>\n    </tr>\n    <tr>\n      <th>3</th>\n      <td>0</td>\n      <td>0</td>\n      <td>0</td>\n      <td>0</td>\n      <td>0</td>\n      <td>0</td>\n      <td>0</td>\n      <td>NaN</td>\n      <td>NaN</td>\n      <td>NaN</td>\n      <td>...</td>\n      <td>10</td>\n      <td>1</td>\n      <td>7.0</td>\n      <td>NORMAL</td>\n      <td>d</td>\n      <td>0</td>\n      <td>0</td>\n      <td>a</td>\n      <td>a</td>\n      <td>a</td>\n    </tr>\n    <tr>\n      <th>4</th>\n      <td>0</td>\n      <td>0</td>\n      <td>0</td>\n      <td>0</td>\n      <td>0</td>\n      <td>0</td>\n      <td>1</td>\n      <td>NaN</td>\n      <td>NaN</td>\n      <td>NaN</td>\n      <td>...</td>\n      <td>52</td>\n      <td>1</td>\n      <td>56.0</td>\n      <td>NORMAL</td>\n      <td>0</td>\n      <td>0</td>\n      <td>a</td>\n      <td>b</td>\n      <td>b</td>\n      <td>a</td>\n    </tr>\n    <tr>\n      <th>...</th>\n      <td>...</td>\n      <td>...</td>\n      <td>...</td>\n      <td>...</td>\n      <td>...</td>\n      <td>...</td>\n      <td>...</td>\n      <td>...</td>\n      <td>...</td>\n      <td>...</td>\n      <td>...</td>\n      <td>...</td>\n      <td>...</td>\n      <td>...</td>\n      <td>...</td>\n      <td>...</td>\n      <td>...</td>\n      <td>...</td>\n      <td>...</td>\n      <td>...</td>\n      <td>...</td>\n    </tr>\n    <tr>\n      <th>1070</th>\n      <td>0</td>\n      <td>0</td>\n      <td>0</td>\n      <td>0</td>\n      <td>0</td>\n      <td>1</td>\n      <td>0</td>\n      <td>NaN</td>\n      <td>NaN</td>\n      <td>NaN</td>\n      <td>...</td>\n      <td>0</td>\n      <td>2</td>\n      <td>54.0</td>\n      <td>NORMAL</td>\n      <td>c</td>\n      <td>b</td>\n      <td>a</td>\n      <td>a</td>\n      <td>a</td>\n      <td>a</td>\n    </tr>\n    <tr>\n      <th>1071</th>\n      <td>0</td>\n      <td>0</td>\n      <td>0</td>\n      <td>0</td>\n      <td>0</td>\n      <td>0</td>\n      <td>0</td>\n      <td>NaN</td>\n      <td>NaN</td>\n      <td>NaN</td>\n      <td>...</td>\n      <td>0</td>\n      <td>1</td>\n      <td>35.0</td>\n      <td>NORMAL</td>\n      <td>0</td>\n      <td>0</td>\n      <td>0</td>\n      <td>c</td>\n      <td>b</td>\n      <td>b</td>\n    </tr>\n    <tr>\n      <th>1072</th>\n      <td>0</td>\n      <td>0</td>\n      <td>0</td>\n      <td>0</td>\n      <td>0</td>\n      <td>0</td>\n      <td>10</td>\n      <td>NaN</td>\n      <td>NaN</td>\n      <td>NaN</td>\n      <td>...</td>\n      <td>0</td>\n      <td>2</td>\n      <td>63.0</td>\n      <td>NORMAL</td>\n      <td>c</td>\n      <td>a</td>\n      <td>a</td>\n      <td>c</td>\n      <td>c</td>\n      <td>c</td>\n    </tr>\n    <tr>\n      <th>1073</th>\n      <td>0</td>\n      <td>0</td>\n      <td>0</td>\n      <td>0</td>\n      <td>0</td>\n      <td>0</td>\n      <td>0</td>\n      <td>NaN</td>\n      <td>NaN</td>\n      <td>NaN</td>\n      <td>...</td>\n      <td>0</td>\n      <td>1</td>\n      <td>61.0</td>\n      <td>NORMAL</td>\n      <td>d</td>\n      <td>c</td>\n      <td>a</td>\n      <td>a</td>\n      <td>a</td>\n      <td>a</td>\n    </tr>\n    <tr>\n      <th>1074</th>\n      <td>0</td>\n      <td>0</td>\n      <td>0</td>\n      <td>0</td>\n      <td>0</td>\n      <td>0</td>\n      <td>4</td>\n      <td>NaN</td>\n      <td>NaN</td>\n      <td>NaN</td>\n      <td>...</td>\n      <td>2</td>\n      <td>2</td>\n      <td>87.0</td>\n      <td>ALTO CRITICO</td>\n      <td>0</td>\n      <td>0</td>\n      <td>a</td>\n      <td>b</td>\n      <td>b</td>\n      <td>b</td>\n    </tr>\n  </tbody>\n</table>\n<p>1075 rows × 987 columns</p>\n</div>"
     },
     "execution_count": 2,
     "metadata": {},
     "output_type": "execute_result"
    }
   ],
   "source": [
    "df_2014 = pd.read_csv(\"C:/Users/noeam/Documents/git/github/proyecto_pt2/data/2014_data_new.csv\")\n",
    "df_2014"
   ],
   "metadata": {
    "collapsed": false,
    "ExecuteTime": {
     "start_time": "2023-05-03T19:21:00.442342Z",
     "end_time": "2023-05-03T19:21:00.614644Z"
    }
   }
  },
  {
   "cell_type": "code",
   "execution_count": 3,
   "outputs": [
    {
     "data": {
      "text/plain": "    sexo estado_civil grado_estudios  tienes_obesidad  edad_dx_obesidad   \n0      F            L              B              2.0               NaN  \\\n1      F            L              B              2.0               NaN   \n2      F            L              B              2.0               NaN   \n3      M            L              B              2.0               NaN   \n4      F            L              B              2.0               NaN   \n..   ...          ...            ...              ...               ...   \n839    M            C              B              2.0               NaN   \n840    F            L              B              2.0               NaN   \n841    F            L              B              2.0               NaN   \n842    F            L              B              2.0               NaN   \n843  NaN          NaN            NaN              NaN               NaN   \n\n     tiene_diab_tipo2  edad_dx_diab_tipo2  padece_hipertensión_arterial   \n0                 2.0                 NaN                           0.0  \\\n1                 2.0                 NaN                           0.0   \n2                 2.0                17.0                           0.0   \n3                 2.0                 NaN                           0.0   \n4                 2.0                16.0                           0.0   \n..                ...                 ...                           ...   \n839               2.0                 NaN                           0.0   \n840               2.0                 NaN                           0.0   \n841               2.0                 NaN                           0.0   \n842               NaN                 NaN                           NaN   \n843               NaN                 NaN                           NaN   \n\n     edad_dx_hipertensión_arterial  padece_problemas_cardiacos  ...  pcr   \n0                              NaN                         0.0  ...  NaN  \\\n1                              NaN                         0.0  ...  NaN   \n2                             17.0                         1.0  ...  NaN   \n3                              NaN                         0.0  ...  NaN   \n4                             16.0                         0.0  ...  NaN   \n..                             ...                         ...  ...  ...   \n839                            NaN                         0.0  ...  NaN   \n840                            NaN                         0.0  ...  NaN   \n841                            NaN                         0.0  ...  NaN   \n842                            NaN                         NaN  ...  NaN   \n843                            NaN                         NaN  ...  NaN   \n\n     cloro  potasio  sodio  edad_real  munneca  porc_musculos  rmkcal   \n0      NaN      NaN    NaN        NaN      NaN            NaN     NaN  \\\n1      NaN      NaN    NaN        NaN      NaN            NaN     NaN   \n2      NaN      NaN    NaN       19.0     15.0           23.6  1199.0   \n3      NaN      NaN    NaN       24.0     17.0           35.0  1845.0   \n4      NaN      NaN    NaN       18.0     15.0           26.7  1117.0   \n..     ...      ...    ...        ...      ...            ...     ...   \n839    NaN      NaN    NaN        NaN      NaN            NaN     NaN   \n840    NaN      NaN    NaN        NaN      NaN            NaN     NaN   \n841    NaN      NaN    NaN        NaN      NaN            NaN     NaN   \n842    NaN      NaN    NaN        NaN      NaN            NaN     NaN   \n843    NaN      NaN    NaN        NaN      NaN            NaN     NaN   \n\n     edad_corporal  grasa_visceral  \n0              NaN             NaN  \n1              NaN             NaN  \n2             21.0             3.0  \n3             47.0            10.0  \n4             38.0             4.0  \n..             ...             ...  \n839            NaN             NaN  \n840            NaN             NaN  \n841            NaN             NaN  \n842            NaN             NaN  \n843            NaN             NaN  \n\n[844 rows x 307 columns]",
      "text/html": "<div>\n<style scoped>\n    .dataframe tbody tr th:only-of-type {\n        vertical-align: middle;\n    }\n\n    .dataframe tbody tr th {\n        vertical-align: top;\n    }\n\n    .dataframe thead th {\n        text-align: right;\n    }\n</style>\n<table border=\"1\" class=\"dataframe\">\n  <thead>\n    <tr style=\"text-align: right;\">\n      <th></th>\n      <th>sexo</th>\n      <th>estado_civil</th>\n      <th>grado_estudios</th>\n      <th>tienes_obesidad</th>\n      <th>edad_dx_obesidad</th>\n      <th>tiene_diab_tipo2</th>\n      <th>edad_dx_diab_tipo2</th>\n      <th>padece_hipertensión_arterial</th>\n      <th>edad_dx_hipertensión_arterial</th>\n      <th>padece_problemas_cardiacos</th>\n      <th>...</th>\n      <th>pcr</th>\n      <th>cloro</th>\n      <th>potasio</th>\n      <th>sodio</th>\n      <th>edad_real</th>\n      <th>munneca</th>\n      <th>porc_musculos</th>\n      <th>rmkcal</th>\n      <th>edad_corporal</th>\n      <th>grasa_visceral</th>\n    </tr>\n  </thead>\n  <tbody>\n    <tr>\n      <th>0</th>\n      <td>F</td>\n      <td>L</td>\n      <td>B</td>\n      <td>2.0</td>\n      <td>NaN</td>\n      <td>2.0</td>\n      <td>NaN</td>\n      <td>0.0</td>\n      <td>NaN</td>\n      <td>0.0</td>\n      <td>...</td>\n      <td>NaN</td>\n      <td>NaN</td>\n      <td>NaN</td>\n      <td>NaN</td>\n      <td>NaN</td>\n      <td>NaN</td>\n      <td>NaN</td>\n      <td>NaN</td>\n      <td>NaN</td>\n      <td>NaN</td>\n    </tr>\n    <tr>\n      <th>1</th>\n      <td>F</td>\n      <td>L</td>\n      <td>B</td>\n      <td>2.0</td>\n      <td>NaN</td>\n      <td>2.0</td>\n      <td>NaN</td>\n      <td>0.0</td>\n      <td>NaN</td>\n      <td>0.0</td>\n      <td>...</td>\n      <td>NaN</td>\n      <td>NaN</td>\n      <td>NaN</td>\n      <td>NaN</td>\n      <td>NaN</td>\n      <td>NaN</td>\n      <td>NaN</td>\n      <td>NaN</td>\n      <td>NaN</td>\n      <td>NaN</td>\n    </tr>\n    <tr>\n      <th>2</th>\n      <td>F</td>\n      <td>L</td>\n      <td>B</td>\n      <td>2.0</td>\n      <td>NaN</td>\n      <td>2.0</td>\n      <td>17.0</td>\n      <td>0.0</td>\n      <td>17.0</td>\n      <td>1.0</td>\n      <td>...</td>\n      <td>NaN</td>\n      <td>NaN</td>\n      <td>NaN</td>\n      <td>NaN</td>\n      <td>19.0</td>\n      <td>15.0</td>\n      <td>23.6</td>\n      <td>1199.0</td>\n      <td>21.0</td>\n      <td>3.0</td>\n    </tr>\n    <tr>\n      <th>3</th>\n      <td>M</td>\n      <td>L</td>\n      <td>B</td>\n      <td>2.0</td>\n      <td>NaN</td>\n      <td>2.0</td>\n      <td>NaN</td>\n      <td>0.0</td>\n      <td>NaN</td>\n      <td>0.0</td>\n      <td>...</td>\n      <td>NaN</td>\n      <td>NaN</td>\n      <td>NaN</td>\n      <td>NaN</td>\n      <td>24.0</td>\n      <td>17.0</td>\n      <td>35.0</td>\n      <td>1845.0</td>\n      <td>47.0</td>\n      <td>10.0</td>\n    </tr>\n    <tr>\n      <th>4</th>\n      <td>F</td>\n      <td>L</td>\n      <td>B</td>\n      <td>2.0</td>\n      <td>NaN</td>\n      <td>2.0</td>\n      <td>16.0</td>\n      <td>0.0</td>\n      <td>16.0</td>\n      <td>0.0</td>\n      <td>...</td>\n      <td>NaN</td>\n      <td>NaN</td>\n      <td>NaN</td>\n      <td>NaN</td>\n      <td>18.0</td>\n      <td>15.0</td>\n      <td>26.7</td>\n      <td>1117.0</td>\n      <td>38.0</td>\n      <td>4.0</td>\n    </tr>\n    <tr>\n      <th>...</th>\n      <td>...</td>\n      <td>...</td>\n      <td>...</td>\n      <td>...</td>\n      <td>...</td>\n      <td>...</td>\n      <td>...</td>\n      <td>...</td>\n      <td>...</td>\n      <td>...</td>\n      <td>...</td>\n      <td>...</td>\n      <td>...</td>\n      <td>...</td>\n      <td>...</td>\n      <td>...</td>\n      <td>...</td>\n      <td>...</td>\n      <td>...</td>\n      <td>...</td>\n      <td>...</td>\n    </tr>\n    <tr>\n      <th>839</th>\n      <td>M</td>\n      <td>C</td>\n      <td>B</td>\n      <td>2.0</td>\n      <td>NaN</td>\n      <td>2.0</td>\n      <td>NaN</td>\n      <td>0.0</td>\n      <td>NaN</td>\n      <td>0.0</td>\n      <td>...</td>\n      <td>NaN</td>\n      <td>NaN</td>\n      <td>NaN</td>\n      <td>NaN</td>\n      <td>NaN</td>\n      <td>NaN</td>\n      <td>NaN</td>\n      <td>NaN</td>\n      <td>NaN</td>\n      <td>NaN</td>\n    </tr>\n    <tr>\n      <th>840</th>\n      <td>F</td>\n      <td>L</td>\n      <td>B</td>\n      <td>2.0</td>\n      <td>NaN</td>\n      <td>2.0</td>\n      <td>NaN</td>\n      <td>0.0</td>\n      <td>NaN</td>\n      <td>0.0</td>\n      <td>...</td>\n      <td>NaN</td>\n      <td>NaN</td>\n      <td>NaN</td>\n      <td>NaN</td>\n      <td>NaN</td>\n      <td>NaN</td>\n      <td>NaN</td>\n      <td>NaN</td>\n      <td>NaN</td>\n      <td>NaN</td>\n    </tr>\n    <tr>\n      <th>841</th>\n      <td>F</td>\n      <td>L</td>\n      <td>B</td>\n      <td>2.0</td>\n      <td>NaN</td>\n      <td>2.0</td>\n      <td>NaN</td>\n      <td>0.0</td>\n      <td>NaN</td>\n      <td>0.0</td>\n      <td>...</td>\n      <td>NaN</td>\n      <td>NaN</td>\n      <td>NaN</td>\n      <td>NaN</td>\n      <td>NaN</td>\n      <td>NaN</td>\n      <td>NaN</td>\n      <td>NaN</td>\n      <td>NaN</td>\n      <td>NaN</td>\n    </tr>\n    <tr>\n      <th>842</th>\n      <td>F</td>\n      <td>L</td>\n      <td>B</td>\n      <td>2.0</td>\n      <td>NaN</td>\n      <td>NaN</td>\n      <td>NaN</td>\n      <td>NaN</td>\n      <td>NaN</td>\n      <td>NaN</td>\n      <td>...</td>\n      <td>NaN</td>\n      <td>NaN</td>\n      <td>NaN</td>\n      <td>NaN</td>\n      <td>NaN</td>\n      <td>NaN</td>\n      <td>NaN</td>\n      <td>NaN</td>\n      <td>NaN</td>\n      <td>NaN</td>\n    </tr>\n    <tr>\n      <th>843</th>\n      <td>NaN</td>\n      <td>NaN</td>\n      <td>NaN</td>\n      <td>NaN</td>\n      <td>NaN</td>\n      <td>NaN</td>\n      <td>NaN</td>\n      <td>NaN</td>\n      <td>NaN</td>\n      <td>NaN</td>\n      <td>...</td>\n      <td>NaN</td>\n      <td>NaN</td>\n      <td>NaN</td>\n      <td>NaN</td>\n      <td>NaN</td>\n      <td>NaN</td>\n      <td>NaN</td>\n      <td>NaN</td>\n      <td>NaN</td>\n      <td>NaN</td>\n    </tr>\n  </tbody>\n</table>\n<p>844 rows × 307 columns</p>\n</div>"
     },
     "execution_count": 3,
     "metadata": {},
     "output_type": "execute_result"
    }
   ],
   "source": [
    "df_fmed = pd.read_csv(\"C:/Users/noeam/Documents/git/github/proyecto_pt2/data/fmed_data_new.csv\")\n",
    "df_fmed"
   ],
   "metadata": {
    "collapsed": false,
    "ExecuteTime": {
     "start_time": "2023-05-03T19:21:00.617642Z",
     "end_time": "2023-05-03T19:21:00.739589Z"
    }
   }
  },
  {
   "cell_type": "code",
   "execution_count": 4,
   "outputs": [
    {
     "data": {
      "text/plain": "     sexo  tienes_obesidad  horas_ejercicio_actual  horas_ejercicio_1ano   \n0       M                2                       2                     2  \\\n1       F                2                       1                     0   \n2       M                2                       1                     1   \n3       M                2                       1                     5   \n4       F                2                       6                     6   \n...   ...              ...                     ...                   ...   \n1070    F                2                       1                     5   \n1071    F                2                      20                     0   \n1072    M                2                       6                     6   \n1073    F                2                       4                     4   \n1074    M                2                       2                     3   \n\n      horas_ejercicio_5ano  \n0                        6  \n1                        0  \n2                        1  \n3                        5  \n4                        6  \n...                    ...  \n1070                     5  \n1071                     0  \n1072                     5  \n1073                     0  \n1074                     5  \n\n[1075 rows x 5 columns]",
      "text/html": "<div>\n<style scoped>\n    .dataframe tbody tr th:only-of-type {\n        vertical-align: middle;\n    }\n\n    .dataframe tbody tr th {\n        vertical-align: top;\n    }\n\n    .dataframe thead th {\n        text-align: right;\n    }\n</style>\n<table border=\"1\" class=\"dataframe\">\n  <thead>\n    <tr style=\"text-align: right;\">\n      <th></th>\n      <th>sexo</th>\n      <th>tienes_obesidad</th>\n      <th>horas_ejercicio_actual</th>\n      <th>horas_ejercicio_1ano</th>\n      <th>horas_ejercicio_5ano</th>\n    </tr>\n  </thead>\n  <tbody>\n    <tr>\n      <th>0</th>\n      <td>M</td>\n      <td>2</td>\n      <td>2</td>\n      <td>2</td>\n      <td>6</td>\n    </tr>\n    <tr>\n      <th>1</th>\n      <td>F</td>\n      <td>2</td>\n      <td>1</td>\n      <td>0</td>\n      <td>0</td>\n    </tr>\n    <tr>\n      <th>2</th>\n      <td>M</td>\n      <td>2</td>\n      <td>1</td>\n      <td>1</td>\n      <td>1</td>\n    </tr>\n    <tr>\n      <th>3</th>\n      <td>M</td>\n      <td>2</td>\n      <td>1</td>\n      <td>5</td>\n      <td>5</td>\n    </tr>\n    <tr>\n      <th>4</th>\n      <td>F</td>\n      <td>2</td>\n      <td>6</td>\n      <td>6</td>\n      <td>6</td>\n    </tr>\n    <tr>\n      <th>...</th>\n      <td>...</td>\n      <td>...</td>\n      <td>...</td>\n      <td>...</td>\n      <td>...</td>\n    </tr>\n    <tr>\n      <th>1070</th>\n      <td>F</td>\n      <td>2</td>\n      <td>1</td>\n      <td>5</td>\n      <td>5</td>\n    </tr>\n    <tr>\n      <th>1071</th>\n      <td>F</td>\n      <td>2</td>\n      <td>20</td>\n      <td>0</td>\n      <td>0</td>\n    </tr>\n    <tr>\n      <th>1072</th>\n      <td>M</td>\n      <td>2</td>\n      <td>6</td>\n      <td>6</td>\n      <td>5</td>\n    </tr>\n    <tr>\n      <th>1073</th>\n      <td>F</td>\n      <td>2</td>\n      <td>4</td>\n      <td>4</td>\n      <td>0</td>\n    </tr>\n    <tr>\n      <th>1074</th>\n      <td>M</td>\n      <td>2</td>\n      <td>2</td>\n      <td>3</td>\n      <td>5</td>\n    </tr>\n  </tbody>\n</table>\n<p>1075 rows × 5 columns</p>\n</div>"
     },
     "execution_count": 4,
     "metadata": {},
     "output_type": "execute_result"
    }
   ],
   "source": [
    "variables = ['sexo', 'tienes_obesidad', 'horas_ejercicio_actual', 'horas_ejercicio_1ano', 'horas_ejercicio_5ano']\n",
    "df_2014_filtrado = df_2014[variables]\n",
    "df_2014_filtrado"
   ],
   "metadata": {
    "collapsed": false,
    "ExecuteTime": {
     "start_time": "2023-05-03T19:21:00.681650Z",
     "end_time": "2023-05-03T19:21:00.739589Z"
    }
   }
  },
  {
   "cell_type": "code",
   "execution_count": 5,
   "outputs": [
    {
     "data": {
      "text/plain": "    sexo  tienes_obesidad  horas_ejercicio_actual  horas_ejercicio_1ano   \n0      F              2.0                     5.0                  10.0  \\\n1      F              2.0                     0.0                   0.0   \n2      F              2.0                     0.0                   5.0   \n3      M              2.0                     3.0                   5.0   \n4      F              2.0                     8.0                  15.0   \n..   ...              ...                     ...                   ...   \n839    M              2.0                     0.0                   2.0   \n840    F              2.0                     0.0                   2.0   \n841    F              2.0                     0.0                   8.0   \n842    F              2.0                     1.0                   5.0   \n843  NaN              NaN                     NaN                   NaN   \n\n     horas_ejercicio_5ano  horas_suenno_calidad  suenno_diario_1ano   \n0                     5.0                   4.0                 9.0  \\\n1                     1.5                   4.0                 5.0   \n2                     9.0                   4.0                 1.0   \n3                    15.0                   3.0                 5.0   \n4                    25.0                   5.0                 8.0   \n..                    ...                   ...                 ...   \n839                   4.0                   5.0                 8.0   \n840                   4.0                   4.0                 7.0   \n841                   4.0                   1.0                 9.0   \n842                   5.0                   3.0                 8.0   \n843                   NaN                   NaN                 NaN   \n\n     suenno_diario_5anos  \n0                    9.0  \n1                    8.0  \n2                    5.0  \n3                    7.0  \n4                    8.0  \n..                   ...  \n839                  7.0  \n840                  9.0  \n841                  8.0  \n842                  9.0  \n843                  NaN  \n\n[844 rows x 8 columns]",
      "text/html": "<div>\n<style scoped>\n    .dataframe tbody tr th:only-of-type {\n        vertical-align: middle;\n    }\n\n    .dataframe tbody tr th {\n        vertical-align: top;\n    }\n\n    .dataframe thead th {\n        text-align: right;\n    }\n</style>\n<table border=\"1\" class=\"dataframe\">\n  <thead>\n    <tr style=\"text-align: right;\">\n      <th></th>\n      <th>sexo</th>\n      <th>tienes_obesidad</th>\n      <th>horas_ejercicio_actual</th>\n      <th>horas_ejercicio_1ano</th>\n      <th>horas_ejercicio_5ano</th>\n      <th>horas_suenno_calidad</th>\n      <th>suenno_diario_1ano</th>\n      <th>suenno_diario_5anos</th>\n    </tr>\n  </thead>\n  <tbody>\n    <tr>\n      <th>0</th>\n      <td>F</td>\n      <td>2.0</td>\n      <td>5.0</td>\n      <td>10.0</td>\n      <td>5.0</td>\n      <td>4.0</td>\n      <td>9.0</td>\n      <td>9.0</td>\n    </tr>\n    <tr>\n      <th>1</th>\n      <td>F</td>\n      <td>2.0</td>\n      <td>0.0</td>\n      <td>0.0</td>\n      <td>1.5</td>\n      <td>4.0</td>\n      <td>5.0</td>\n      <td>8.0</td>\n    </tr>\n    <tr>\n      <th>2</th>\n      <td>F</td>\n      <td>2.0</td>\n      <td>0.0</td>\n      <td>5.0</td>\n      <td>9.0</td>\n      <td>4.0</td>\n      <td>1.0</td>\n      <td>5.0</td>\n    </tr>\n    <tr>\n      <th>3</th>\n      <td>M</td>\n      <td>2.0</td>\n      <td>3.0</td>\n      <td>5.0</td>\n      <td>15.0</td>\n      <td>3.0</td>\n      <td>5.0</td>\n      <td>7.0</td>\n    </tr>\n    <tr>\n      <th>4</th>\n      <td>F</td>\n      <td>2.0</td>\n      <td>8.0</td>\n      <td>15.0</td>\n      <td>25.0</td>\n      <td>5.0</td>\n      <td>8.0</td>\n      <td>8.0</td>\n    </tr>\n    <tr>\n      <th>...</th>\n      <td>...</td>\n      <td>...</td>\n      <td>...</td>\n      <td>...</td>\n      <td>...</td>\n      <td>...</td>\n      <td>...</td>\n      <td>...</td>\n    </tr>\n    <tr>\n      <th>839</th>\n      <td>M</td>\n      <td>2.0</td>\n      <td>0.0</td>\n      <td>2.0</td>\n      <td>4.0</td>\n      <td>5.0</td>\n      <td>8.0</td>\n      <td>7.0</td>\n    </tr>\n    <tr>\n      <th>840</th>\n      <td>F</td>\n      <td>2.0</td>\n      <td>0.0</td>\n      <td>2.0</td>\n      <td>4.0</td>\n      <td>4.0</td>\n      <td>7.0</td>\n      <td>9.0</td>\n    </tr>\n    <tr>\n      <th>841</th>\n      <td>F</td>\n      <td>2.0</td>\n      <td>0.0</td>\n      <td>8.0</td>\n      <td>4.0</td>\n      <td>1.0</td>\n      <td>9.0</td>\n      <td>8.0</td>\n    </tr>\n    <tr>\n      <th>842</th>\n      <td>F</td>\n      <td>2.0</td>\n      <td>1.0</td>\n      <td>5.0</td>\n      <td>5.0</td>\n      <td>3.0</td>\n      <td>8.0</td>\n      <td>9.0</td>\n    </tr>\n    <tr>\n      <th>843</th>\n      <td>NaN</td>\n      <td>NaN</td>\n      <td>NaN</td>\n      <td>NaN</td>\n      <td>NaN</td>\n      <td>NaN</td>\n      <td>NaN</td>\n      <td>NaN</td>\n    </tr>\n  </tbody>\n</table>\n<p>844 rows × 8 columns</p>\n</div>"
     },
     "execution_count": 5,
     "metadata": {},
     "output_type": "execute_result"
    }
   ],
   "source": [
    "variables = ['sexo', 'tienes_obesidad', 'horas_ejercicio_actual', 'horas_ejercicio_1ano', 'horas_ejercicio_5ano', 'horas_suenno_calidad', 'suenno_diario_1ano', 'suenno_diario_5anos']\n",
    "df_fmed_filtrado = df_fmed[variables]\n",
    "df_fmed_filtrado"
   ],
   "metadata": {
    "collapsed": false,
    "ExecuteTime": {
     "start_time": "2023-05-03T19:21:00.709203Z",
     "end_time": "2023-05-03T19:21:00.740588Z"
    }
   }
  },
  {
   "cell_type": "code",
   "execution_count": 6,
   "outputs": [
    {
     "data": {
      "text/plain": "sexo                      0\ntienes_obesidad           0\nhoras_ejercicio_actual    0\nhoras_ejercicio_1ano      0\nhoras_ejercicio_5ano      0\ndtype: int64"
     },
     "execution_count": 6,
     "metadata": {},
     "output_type": "execute_result"
    }
   ],
   "source": [
    "df_2014_filtrado.isnull().sum()"
   ],
   "metadata": {
    "collapsed": false,
    "ExecuteTime": {
     "start_time": "2023-05-03T19:21:00.728201Z",
     "end_time": "2023-05-03T19:21:00.742590Z"
    }
   }
  },
  {
   "cell_type": "code",
   "execution_count": 7,
   "outputs": [
    {
     "data": {
      "text/plain": "sexo                       95\ntienes_obesidad            95\nhoras_ejercicio_actual    101\nhoras_ejercicio_1ano      105\nhoras_ejercicio_5ano      112\nhoras_suenno_calidad       95\nsuenno_diario_1ano         95\nsuenno_diario_5anos        95\ndtype: int64"
     },
     "execution_count": 7,
     "metadata": {},
     "output_type": "execute_result"
    }
   ],
   "source": [
    "df_fmed_filtrado.isnull().sum()"
   ],
   "metadata": {
    "collapsed": false,
    "ExecuteTime": {
     "start_time": "2023-05-03T19:21:00.743589Z",
     "end_time": "2023-05-03T19:21:00.786590Z"
    }
   }
  },
  {
   "cell_type": "code",
   "execution_count": 8,
   "outputs": [
    {
     "data": {
      "text/plain": "sexo                      0\ntienes_obesidad           0\nhoras_ejercicio_actual    0\nhoras_ejercicio_1ano      0\nhoras_ejercicio_5ano      0\nhoras_suenno_calidad      0\nsuenno_diario_1ano        0\nsuenno_diario_5anos       0\ndtype: int64"
     },
     "execution_count": 8,
     "metadata": {},
     "output_type": "execute_result"
    }
   ],
   "source": [
    "df_fmed_filtrado = df_fmed_filtrado.dropna()\n",
    "df_fmed_filtrado.isnull().sum()"
   ],
   "metadata": {
    "collapsed": false,
    "ExecuteTime": {
     "start_time": "2023-05-03T19:21:00.762589Z",
     "end_time": "2023-05-03T19:21:00.833231Z"
    }
   }
  },
  {
   "cell_type": "code",
   "execution_count": 9,
   "outputs": [
    {
     "data": {
      "text/plain": "    sexo  tienes_obesidad  horas_ejercicio_actual  horas_ejercicio_1ano   \n0      F              2.0                     5.0                  10.0  \\\n1      F              2.0                     0.0                   0.0   \n2      F              2.0                     0.0                   5.0   \n3      M              2.0                     3.0                   5.0   \n4      F              2.0                     8.0                  15.0   \n..   ...              ...                     ...                   ...   \n838    M              2.0                     3.0                  20.0   \n839    M              2.0                     0.0                   2.0   \n840    F              2.0                     0.0                   2.0   \n841    F              2.0                     0.0                   8.0   \n842    F              2.0                     1.0                   5.0   \n\n     horas_ejercicio_5ano  horas_suenno_calidad  suenno_diario_1ano   \n0                     5.0                   4.0                 9.0  \\\n1                     1.5                   4.0                 5.0   \n2                     9.0                   4.0                 1.0   \n3                    15.0                   3.0                 5.0   \n4                    25.0                   5.0                 8.0   \n..                    ...                   ...                 ...   \n838                  18.0                   6.0                 7.0   \n839                   4.0                   5.0                 8.0   \n840                   4.0                   4.0                 7.0   \n841                   4.0                   1.0                 9.0   \n842                   5.0                   3.0                 8.0   \n\n     suenno_diario_5anos  \n0                    9.0  \n1                    8.0  \n2                    5.0  \n3                    7.0  \n4                    8.0  \n..                   ...  \n838                  8.0  \n839                  7.0  \n840                  9.0  \n841                  8.0  \n842                  9.0  \n\n[723 rows x 8 columns]",
      "text/html": "<div>\n<style scoped>\n    .dataframe tbody tr th:only-of-type {\n        vertical-align: middle;\n    }\n\n    .dataframe tbody tr th {\n        vertical-align: top;\n    }\n\n    .dataframe thead th {\n        text-align: right;\n    }\n</style>\n<table border=\"1\" class=\"dataframe\">\n  <thead>\n    <tr style=\"text-align: right;\">\n      <th></th>\n      <th>sexo</th>\n      <th>tienes_obesidad</th>\n      <th>horas_ejercicio_actual</th>\n      <th>horas_ejercicio_1ano</th>\n      <th>horas_ejercicio_5ano</th>\n      <th>horas_suenno_calidad</th>\n      <th>suenno_diario_1ano</th>\n      <th>suenno_diario_5anos</th>\n    </tr>\n  </thead>\n  <tbody>\n    <tr>\n      <th>0</th>\n      <td>F</td>\n      <td>2.0</td>\n      <td>5.0</td>\n      <td>10.0</td>\n      <td>5.0</td>\n      <td>4.0</td>\n      <td>9.0</td>\n      <td>9.0</td>\n    </tr>\n    <tr>\n      <th>1</th>\n      <td>F</td>\n      <td>2.0</td>\n      <td>0.0</td>\n      <td>0.0</td>\n      <td>1.5</td>\n      <td>4.0</td>\n      <td>5.0</td>\n      <td>8.0</td>\n    </tr>\n    <tr>\n      <th>2</th>\n      <td>F</td>\n      <td>2.0</td>\n      <td>0.0</td>\n      <td>5.0</td>\n      <td>9.0</td>\n      <td>4.0</td>\n      <td>1.0</td>\n      <td>5.0</td>\n    </tr>\n    <tr>\n      <th>3</th>\n      <td>M</td>\n      <td>2.0</td>\n      <td>3.0</td>\n      <td>5.0</td>\n      <td>15.0</td>\n      <td>3.0</td>\n      <td>5.0</td>\n      <td>7.0</td>\n    </tr>\n    <tr>\n      <th>4</th>\n      <td>F</td>\n      <td>2.0</td>\n      <td>8.0</td>\n      <td>15.0</td>\n      <td>25.0</td>\n      <td>5.0</td>\n      <td>8.0</td>\n      <td>8.0</td>\n    </tr>\n    <tr>\n      <th>...</th>\n      <td>...</td>\n      <td>...</td>\n      <td>...</td>\n      <td>...</td>\n      <td>...</td>\n      <td>...</td>\n      <td>...</td>\n      <td>...</td>\n    </tr>\n    <tr>\n      <th>838</th>\n      <td>M</td>\n      <td>2.0</td>\n      <td>3.0</td>\n      <td>20.0</td>\n      <td>18.0</td>\n      <td>6.0</td>\n      <td>7.0</td>\n      <td>8.0</td>\n    </tr>\n    <tr>\n      <th>839</th>\n      <td>M</td>\n      <td>2.0</td>\n      <td>0.0</td>\n      <td>2.0</td>\n      <td>4.0</td>\n      <td>5.0</td>\n      <td>8.0</td>\n      <td>7.0</td>\n    </tr>\n    <tr>\n      <th>840</th>\n      <td>F</td>\n      <td>2.0</td>\n      <td>0.0</td>\n      <td>2.0</td>\n      <td>4.0</td>\n      <td>4.0</td>\n      <td>7.0</td>\n      <td>9.0</td>\n    </tr>\n    <tr>\n      <th>841</th>\n      <td>F</td>\n      <td>2.0</td>\n      <td>0.0</td>\n      <td>8.0</td>\n      <td>4.0</td>\n      <td>1.0</td>\n      <td>9.0</td>\n      <td>8.0</td>\n    </tr>\n    <tr>\n      <th>842</th>\n      <td>F</td>\n      <td>2.0</td>\n      <td>1.0</td>\n      <td>5.0</td>\n      <td>5.0</td>\n      <td>3.0</td>\n      <td>8.0</td>\n      <td>9.0</td>\n    </tr>\n  </tbody>\n</table>\n<p>723 rows × 8 columns</p>\n</div>"
     },
     "execution_count": 9,
     "metadata": {},
     "output_type": "execute_result"
    }
   ],
   "source": [
    "df_fmed_filtrado"
   ],
   "metadata": {
    "collapsed": false,
    "ExecuteTime": {
     "start_time": "2023-05-03T19:21:00.774588Z",
     "end_time": "2023-05-03T19:21:00.835227Z"
    }
   }
  },
  {
   "cell_type": "markdown",
   "source": [
    "# Comienza Transformación"
   ],
   "metadata": {
    "collapsed": false
   }
  },
  {
   "cell_type": "markdown",
   "source": [
    "# Creamos las variables categóricas para hábito ejercicio (Bueno o Malo)"
   ],
   "metadata": {
    "collapsed": false
   }
  },
  {
   "cell_type": "code",
   "execution_count": 10,
   "outputs": [],
   "source": [
    "def exercise_habit_case(value):\n",
    "    if value >= 2.5:\n",
    "        return 'B'\n",
    "    else:\n",
    "        return 'M'"
   ],
   "metadata": {
    "collapsed": false,
    "ExecuteTime": {
     "start_time": "2023-05-03T19:21:00.792601Z",
     "end_time": "2023-05-03T19:21:00.905119Z"
    }
   }
  },
  {
   "cell_type": "code",
   "execution_count": 11,
   "outputs": [
    {
     "name": "stderr",
     "output_type": "stream",
     "text": [
      "C:\\Users\\noeam\\AppData\\Local\\Temp\\ipykernel_20268\\3068411755.py:5: SettingWithCopyWarning: \n",
      "A value is trying to be set on a copy of a slice from a DataFrame.\n",
      "Try using .loc[row_indexer,col_indexer] = value instead\n",
      "\n",
      "See the caveats in the documentation: https://pandas.pydata.org/pandas-docs/stable/user_guide/indexing.html#returning-a-view-versus-a-copy\n",
      "  df_2014_filtrado['ejer_act'] = df_2014_filtrado['horas_ejercicio_actual'].apply(exercise_habit_case)\n",
      "C:\\Users\\noeam\\AppData\\Local\\Temp\\ipykernel_20268\\3068411755.py:6: SettingWithCopyWarning: \n",
      "A value is trying to be set on a copy of a slice from a DataFrame.\n",
      "Try using .loc[row_indexer,col_indexer] = value instead\n",
      "\n",
      "See the caveats in the documentation: https://pandas.pydata.org/pandas-docs/stable/user_guide/indexing.html#returning-a-view-versus-a-copy\n",
      "  df_2014_filtrado['ejer_1'] = df_2014_filtrado['horas_ejercicio_1ano'].apply(exercise_habit_case)\n",
      "C:\\Users\\noeam\\AppData\\Local\\Temp\\ipykernel_20268\\3068411755.py:7: SettingWithCopyWarning: \n",
      "A value is trying to be set on a copy of a slice from a DataFrame.\n",
      "Try using .loc[row_indexer,col_indexer] = value instead\n",
      "\n",
      "See the caveats in the documentation: https://pandas.pydata.org/pandas-docs/stable/user_guide/indexing.html#returning-a-view-versus-a-copy\n",
      "  df_2014_filtrado['ejer_5'] = df_2014_filtrado['horas_ejercicio_5ano'].apply(exercise_habit_case)\n"
     ]
    },
    {
     "data": {
      "text/plain": "     sexo  tienes_obesidad  horas_ejercicio_actual  horas_ejercicio_1ano   \n0       M                2                       2                     2  \\\n1       F                2                       1                     0   \n2       M                2                       1                     1   \n3       M                2                       1                     5   \n4       F                2                       6                     6   \n...   ...              ...                     ...                   ...   \n1070    F                2                       1                     5   \n1071    F                2                      20                     0   \n1072    M                2                       6                     6   \n1073    F                2                       4                     4   \n1074    M                2                       2                     3   \n\n      horas_ejercicio_5ano ejer_act ejer_1 ejer_5  \n0                        6        M      M      B  \n1                        0        M      M      M  \n2                        1        M      M      M  \n3                        5        M      B      B  \n4                        6        B      B      B  \n...                    ...      ...    ...    ...  \n1070                     5        M      B      B  \n1071                     0        B      M      M  \n1072                     5        B      B      B  \n1073                     0        B      B      M  \n1074                     5        M      B      B  \n\n[1075 rows x 8 columns]",
      "text/html": "<div>\n<style scoped>\n    .dataframe tbody tr th:only-of-type {\n        vertical-align: middle;\n    }\n\n    .dataframe tbody tr th {\n        vertical-align: top;\n    }\n\n    .dataframe thead th {\n        text-align: right;\n    }\n</style>\n<table border=\"1\" class=\"dataframe\">\n  <thead>\n    <tr style=\"text-align: right;\">\n      <th></th>\n      <th>sexo</th>\n      <th>tienes_obesidad</th>\n      <th>horas_ejercicio_actual</th>\n      <th>horas_ejercicio_1ano</th>\n      <th>horas_ejercicio_5ano</th>\n      <th>ejer_act</th>\n      <th>ejer_1</th>\n      <th>ejer_5</th>\n    </tr>\n  </thead>\n  <tbody>\n    <tr>\n      <th>0</th>\n      <td>M</td>\n      <td>2</td>\n      <td>2</td>\n      <td>2</td>\n      <td>6</td>\n      <td>M</td>\n      <td>M</td>\n      <td>B</td>\n    </tr>\n    <tr>\n      <th>1</th>\n      <td>F</td>\n      <td>2</td>\n      <td>1</td>\n      <td>0</td>\n      <td>0</td>\n      <td>M</td>\n      <td>M</td>\n      <td>M</td>\n    </tr>\n    <tr>\n      <th>2</th>\n      <td>M</td>\n      <td>2</td>\n      <td>1</td>\n      <td>1</td>\n      <td>1</td>\n      <td>M</td>\n      <td>M</td>\n      <td>M</td>\n    </tr>\n    <tr>\n      <th>3</th>\n      <td>M</td>\n      <td>2</td>\n      <td>1</td>\n      <td>5</td>\n      <td>5</td>\n      <td>M</td>\n      <td>B</td>\n      <td>B</td>\n    </tr>\n    <tr>\n      <th>4</th>\n      <td>F</td>\n      <td>2</td>\n      <td>6</td>\n      <td>6</td>\n      <td>6</td>\n      <td>B</td>\n      <td>B</td>\n      <td>B</td>\n    </tr>\n    <tr>\n      <th>...</th>\n      <td>...</td>\n      <td>...</td>\n      <td>...</td>\n      <td>...</td>\n      <td>...</td>\n      <td>...</td>\n      <td>...</td>\n      <td>...</td>\n    </tr>\n    <tr>\n      <th>1070</th>\n      <td>F</td>\n      <td>2</td>\n      <td>1</td>\n      <td>5</td>\n      <td>5</td>\n      <td>M</td>\n      <td>B</td>\n      <td>B</td>\n    </tr>\n    <tr>\n      <th>1071</th>\n      <td>F</td>\n      <td>2</td>\n      <td>20</td>\n      <td>0</td>\n      <td>0</td>\n      <td>B</td>\n      <td>M</td>\n      <td>M</td>\n    </tr>\n    <tr>\n      <th>1072</th>\n      <td>M</td>\n      <td>2</td>\n      <td>6</td>\n      <td>6</td>\n      <td>5</td>\n      <td>B</td>\n      <td>B</td>\n      <td>B</td>\n    </tr>\n    <tr>\n      <th>1073</th>\n      <td>F</td>\n      <td>2</td>\n      <td>4</td>\n      <td>4</td>\n      <td>0</td>\n      <td>B</td>\n      <td>B</td>\n      <td>M</td>\n    </tr>\n    <tr>\n      <th>1074</th>\n      <td>M</td>\n      <td>2</td>\n      <td>2</td>\n      <td>3</td>\n      <td>5</td>\n      <td>M</td>\n      <td>B</td>\n      <td>B</td>\n    </tr>\n  </tbody>\n</table>\n<p>1075 rows × 8 columns</p>\n</div>"
     },
     "execution_count": 11,
     "metadata": {},
     "output_type": "execute_result"
    }
   ],
   "source": [
    "# Leemos los valores como numericos\n",
    "#df_2014_filtrado['horas_ejercicio_actual'] = pd.to_numeric(df_2014_filtrado['horas_ejercicio_actual'], errors='coerce')\n",
    "#df_2014_filtrado['horas_ejercicio_1ano'] = pd.to_numeric(df_2014_filtrado['horas_ejercicio_1ano'], errors='coerce')\n",
    "#df_2014_filtrado['horas_ejercicio_5ano'] = pd.to_numeric(df_2014_filtrado['horas_ejercicio_5ano'], errors='coerce')\n",
    "df_2014_filtrado['ejer_act'] = df_2014_filtrado['horas_ejercicio_actual'].apply(exercise_habit_case)\n",
    "df_2014_filtrado['ejer_1'] = df_2014_filtrado['horas_ejercicio_1ano'].apply(exercise_habit_case)\n",
    "df_2014_filtrado['ejer_5'] = df_2014_filtrado['horas_ejercicio_5ano'].apply(exercise_habit_case)\n",
    "df_2014_filtrado"
   ],
   "metadata": {
    "collapsed": false,
    "ExecuteTime": {
     "start_time": "2023-05-03T19:21:00.808158Z",
     "end_time": "2023-05-03T19:21:00.990152Z"
    }
   }
  },
  {
   "cell_type": "code",
   "execution_count": 12,
   "outputs": [
    {
     "name": "stderr",
     "output_type": "stream",
     "text": [
      "C:\\Users\\noeam\\AppData\\Local\\Temp\\ipykernel_20268\\3624143285.py:1: SettingWithCopyWarning: \n",
      "A value is trying to be set on a copy of a slice from a DataFrame.\n",
      "Try using .loc[row_indexer,col_indexer] = value instead\n",
      "\n",
      "See the caveats in the documentation: https://pandas.pydata.org/pandas-docs/stable/user_guide/indexing.html#returning-a-view-versus-a-copy\n",
      "  df_fmed_filtrado['ejer_act'] = df_fmed_filtrado['horas_ejercicio_actual'].apply(exercise_habit_case)\n",
      "C:\\Users\\noeam\\AppData\\Local\\Temp\\ipykernel_20268\\3624143285.py:2: SettingWithCopyWarning: \n",
      "A value is trying to be set on a copy of a slice from a DataFrame.\n",
      "Try using .loc[row_indexer,col_indexer] = value instead\n",
      "\n",
      "See the caveats in the documentation: https://pandas.pydata.org/pandas-docs/stable/user_guide/indexing.html#returning-a-view-versus-a-copy\n",
      "  df_fmed_filtrado['ejer_1'] = df_fmed_filtrado['horas_ejercicio_1ano'].apply(exercise_habit_case)\n",
      "C:\\Users\\noeam\\AppData\\Local\\Temp\\ipykernel_20268\\3624143285.py:3: SettingWithCopyWarning: \n",
      "A value is trying to be set on a copy of a slice from a DataFrame.\n",
      "Try using .loc[row_indexer,col_indexer] = value instead\n",
      "\n",
      "See the caveats in the documentation: https://pandas.pydata.org/pandas-docs/stable/user_guide/indexing.html#returning-a-view-versus-a-copy\n",
      "  df_fmed_filtrado['ejer_5'] = df_fmed_filtrado['horas_ejercicio_5ano'].apply(exercise_habit_case)\n"
     ]
    },
    {
     "data": {
      "text/plain": "    sexo  tienes_obesidad  horas_ejercicio_actual  horas_ejercicio_1ano   \n0      F              2.0                     5.0                  10.0  \\\n1      F              2.0                     0.0                   0.0   \n2      F              2.0                     0.0                   5.0   \n3      M              2.0                     3.0                   5.0   \n4      F              2.0                     8.0                  15.0   \n..   ...              ...                     ...                   ...   \n838    M              2.0                     3.0                  20.0   \n839    M              2.0                     0.0                   2.0   \n840    F              2.0                     0.0                   2.0   \n841    F              2.0                     0.0                   8.0   \n842    F              2.0                     1.0                   5.0   \n\n     horas_ejercicio_5ano  horas_suenno_calidad  suenno_diario_1ano   \n0                     5.0                   4.0                 9.0  \\\n1                     1.5                   4.0                 5.0   \n2                     9.0                   4.0                 1.0   \n3                    15.0                   3.0                 5.0   \n4                    25.0                   5.0                 8.0   \n..                    ...                   ...                 ...   \n838                  18.0                   6.0                 7.0   \n839                   4.0                   5.0                 8.0   \n840                   4.0                   4.0                 7.0   \n841                   4.0                   1.0                 9.0   \n842                   5.0                   3.0                 8.0   \n\n     suenno_diario_5anos ejer_act ejer_1 ejer_5  \n0                    9.0        B      B      B  \n1                    8.0        M      M      M  \n2                    5.0        M      B      B  \n3                    7.0        B      B      B  \n4                    8.0        B      B      B  \n..                   ...      ...    ...    ...  \n838                  8.0        B      B      B  \n839                  7.0        M      M      B  \n840                  9.0        M      M      B  \n841                  8.0        M      B      B  \n842                  9.0        M      B      B  \n\n[723 rows x 11 columns]",
      "text/html": "<div>\n<style scoped>\n    .dataframe tbody tr th:only-of-type {\n        vertical-align: middle;\n    }\n\n    .dataframe tbody tr th {\n        vertical-align: top;\n    }\n\n    .dataframe thead th {\n        text-align: right;\n    }\n</style>\n<table border=\"1\" class=\"dataframe\">\n  <thead>\n    <tr style=\"text-align: right;\">\n      <th></th>\n      <th>sexo</th>\n      <th>tienes_obesidad</th>\n      <th>horas_ejercicio_actual</th>\n      <th>horas_ejercicio_1ano</th>\n      <th>horas_ejercicio_5ano</th>\n      <th>horas_suenno_calidad</th>\n      <th>suenno_diario_1ano</th>\n      <th>suenno_diario_5anos</th>\n      <th>ejer_act</th>\n      <th>ejer_1</th>\n      <th>ejer_5</th>\n    </tr>\n  </thead>\n  <tbody>\n    <tr>\n      <th>0</th>\n      <td>F</td>\n      <td>2.0</td>\n      <td>5.0</td>\n      <td>10.0</td>\n      <td>5.0</td>\n      <td>4.0</td>\n      <td>9.0</td>\n      <td>9.0</td>\n      <td>B</td>\n      <td>B</td>\n      <td>B</td>\n    </tr>\n    <tr>\n      <th>1</th>\n      <td>F</td>\n      <td>2.0</td>\n      <td>0.0</td>\n      <td>0.0</td>\n      <td>1.5</td>\n      <td>4.0</td>\n      <td>5.0</td>\n      <td>8.0</td>\n      <td>M</td>\n      <td>M</td>\n      <td>M</td>\n    </tr>\n    <tr>\n      <th>2</th>\n      <td>F</td>\n      <td>2.0</td>\n      <td>0.0</td>\n      <td>5.0</td>\n      <td>9.0</td>\n      <td>4.0</td>\n      <td>1.0</td>\n      <td>5.0</td>\n      <td>M</td>\n      <td>B</td>\n      <td>B</td>\n    </tr>\n    <tr>\n      <th>3</th>\n      <td>M</td>\n      <td>2.0</td>\n      <td>3.0</td>\n      <td>5.0</td>\n      <td>15.0</td>\n      <td>3.0</td>\n      <td>5.0</td>\n      <td>7.0</td>\n      <td>B</td>\n      <td>B</td>\n      <td>B</td>\n    </tr>\n    <tr>\n      <th>4</th>\n      <td>F</td>\n      <td>2.0</td>\n      <td>8.0</td>\n      <td>15.0</td>\n      <td>25.0</td>\n      <td>5.0</td>\n      <td>8.0</td>\n      <td>8.0</td>\n      <td>B</td>\n      <td>B</td>\n      <td>B</td>\n    </tr>\n    <tr>\n      <th>...</th>\n      <td>...</td>\n      <td>...</td>\n      <td>...</td>\n      <td>...</td>\n      <td>...</td>\n      <td>...</td>\n      <td>...</td>\n      <td>...</td>\n      <td>...</td>\n      <td>...</td>\n      <td>...</td>\n    </tr>\n    <tr>\n      <th>838</th>\n      <td>M</td>\n      <td>2.0</td>\n      <td>3.0</td>\n      <td>20.0</td>\n      <td>18.0</td>\n      <td>6.0</td>\n      <td>7.0</td>\n      <td>8.0</td>\n      <td>B</td>\n      <td>B</td>\n      <td>B</td>\n    </tr>\n    <tr>\n      <th>839</th>\n      <td>M</td>\n      <td>2.0</td>\n      <td>0.0</td>\n      <td>2.0</td>\n      <td>4.0</td>\n      <td>5.0</td>\n      <td>8.0</td>\n      <td>7.0</td>\n      <td>M</td>\n      <td>M</td>\n      <td>B</td>\n    </tr>\n    <tr>\n      <th>840</th>\n      <td>F</td>\n      <td>2.0</td>\n      <td>0.0</td>\n      <td>2.0</td>\n      <td>4.0</td>\n      <td>4.0</td>\n      <td>7.0</td>\n      <td>9.0</td>\n      <td>M</td>\n      <td>M</td>\n      <td>B</td>\n    </tr>\n    <tr>\n      <th>841</th>\n      <td>F</td>\n      <td>2.0</td>\n      <td>0.0</td>\n      <td>8.0</td>\n      <td>4.0</td>\n      <td>1.0</td>\n      <td>9.0</td>\n      <td>8.0</td>\n      <td>M</td>\n      <td>B</td>\n      <td>B</td>\n    </tr>\n    <tr>\n      <th>842</th>\n      <td>F</td>\n      <td>2.0</td>\n      <td>1.0</td>\n      <td>5.0</td>\n      <td>5.0</td>\n      <td>3.0</td>\n      <td>8.0</td>\n      <td>9.0</td>\n      <td>M</td>\n      <td>B</td>\n      <td>B</td>\n    </tr>\n  </tbody>\n</table>\n<p>723 rows × 11 columns</p>\n</div>"
     },
     "execution_count": 12,
     "metadata": {},
     "output_type": "execute_result"
    }
   ],
   "source": [
    "df_fmed_filtrado['ejer_act'] = df_fmed_filtrado['horas_ejercicio_actual'].apply(exercise_habit_case)\n",
    "df_fmed_filtrado['ejer_1'] = df_fmed_filtrado['horas_ejercicio_1ano'].apply(exercise_habit_case)\n",
    "df_fmed_filtrado['ejer_5'] = df_fmed_filtrado['horas_ejercicio_5ano'].apply(exercise_habit_case)\n",
    "df_fmed_filtrado"
   ],
   "metadata": {
    "collapsed": false,
    "ExecuteTime": {
     "start_time": "2023-05-03T19:21:00.854229Z",
     "end_time": "2023-05-03T19:21:01.149874Z"
    }
   }
  },
  {
   "cell_type": "markdown",
   "source": [
    "# Creamos las variables categóricas para hábito cantidad de horas de sueño (Bueno o Malo)"
   ],
   "metadata": {
    "collapsed": false
   }
  },
  {
   "cell_type": "code",
   "execution_count": 13,
   "outputs": [],
   "source": [
    "def sleep_habit_case(value):\n",
    "    if (value >= 7) and (value <= 9):\n",
    "        return 'B'\n",
    "    else:\n",
    "        return 'M'"
   ],
   "metadata": {
    "collapsed": false,
    "ExecuteTime": {
     "start_time": "2023-05-03T19:21:00.883567Z",
     "end_time": "2023-05-03T19:21:01.149874Z"
    }
   }
  },
  {
   "cell_type": "code",
   "execution_count": 14,
   "outputs": [
    {
     "name": "stderr",
     "output_type": "stream",
     "text": [
      "C:\\Users\\noeam\\AppData\\Local\\Temp\\ipykernel_20268\\1754248267.py:1: SettingWithCopyWarning: \n",
      "A value is trying to be set on a copy of a slice from a DataFrame.\n",
      "Try using .loc[row_indexer,col_indexer] = value instead\n",
      "\n",
      "See the caveats in the documentation: https://pandas.pydata.org/pandas-docs/stable/user_guide/indexing.html#returning-a-view-versus-a-copy\n",
      "  df_fmed_filtrado['suenio_act'] = df_fmed_filtrado['horas_suenno_calidad'].apply(sleep_habit_case)\n",
      "C:\\Users\\noeam\\AppData\\Local\\Temp\\ipykernel_20268\\1754248267.py:2: SettingWithCopyWarning: \n",
      "A value is trying to be set on a copy of a slice from a DataFrame.\n",
      "Try using .loc[row_indexer,col_indexer] = value instead\n",
      "\n",
      "See the caveats in the documentation: https://pandas.pydata.org/pandas-docs/stable/user_guide/indexing.html#returning-a-view-versus-a-copy\n",
      "  df_fmed_filtrado['suenio_1'] = df_fmed_filtrado['suenno_diario_1ano'].apply(sleep_habit_case)\n",
      "C:\\Users\\noeam\\AppData\\Local\\Temp\\ipykernel_20268\\1754248267.py:3: SettingWithCopyWarning: \n",
      "A value is trying to be set on a copy of a slice from a DataFrame.\n",
      "Try using .loc[row_indexer,col_indexer] = value instead\n",
      "\n",
      "See the caveats in the documentation: https://pandas.pydata.org/pandas-docs/stable/user_guide/indexing.html#returning-a-view-versus-a-copy\n",
      "  df_fmed_filtrado['suenio_5'] = df_fmed_filtrado['suenno_diario_5anos'].apply(sleep_habit_case)\n"
     ]
    },
    {
     "data": {
      "text/plain": "    sexo  tienes_obesidad  horas_ejercicio_actual  horas_ejercicio_1ano   \n0      F              2.0                     5.0                  10.0  \\\n1      F              2.0                     0.0                   0.0   \n2      F              2.0                     0.0                   5.0   \n3      M              2.0                     3.0                   5.0   \n4      F              2.0                     8.0                  15.0   \n..   ...              ...                     ...                   ...   \n838    M              2.0                     3.0                  20.0   \n839    M              2.0                     0.0                   2.0   \n840    F              2.0                     0.0                   2.0   \n841    F              2.0                     0.0                   8.0   \n842    F              2.0                     1.0                   5.0   \n\n     horas_ejercicio_5ano  horas_suenno_calidad  suenno_diario_1ano   \n0                     5.0                   4.0                 9.0  \\\n1                     1.5                   4.0                 5.0   \n2                     9.0                   4.0                 1.0   \n3                    15.0                   3.0                 5.0   \n4                    25.0                   5.0                 8.0   \n..                    ...                   ...                 ...   \n838                  18.0                   6.0                 7.0   \n839                   4.0                   5.0                 8.0   \n840                   4.0                   4.0                 7.0   \n841                   4.0                   1.0                 9.0   \n842                   5.0                   3.0                 8.0   \n\n     suenno_diario_5anos ejer_act ejer_1 ejer_5 suenio_act suenio_1 suenio_5  \n0                    9.0        B      B      B          M        B        B  \n1                    8.0        M      M      M          M        M        B  \n2                    5.0        M      B      B          M        M        M  \n3                    7.0        B      B      B          M        M        B  \n4                    8.0        B      B      B          M        B        B  \n..                   ...      ...    ...    ...        ...      ...      ...  \n838                  8.0        B      B      B          M        B        B  \n839                  7.0        M      M      B          M        B        B  \n840                  9.0        M      M      B          M        B        B  \n841                  8.0        M      B      B          M        B        B  \n842                  9.0        M      B      B          M        B        B  \n\n[723 rows x 14 columns]",
      "text/html": "<div>\n<style scoped>\n    .dataframe tbody tr th:only-of-type {\n        vertical-align: middle;\n    }\n\n    .dataframe tbody tr th {\n        vertical-align: top;\n    }\n\n    .dataframe thead th {\n        text-align: right;\n    }\n</style>\n<table border=\"1\" class=\"dataframe\">\n  <thead>\n    <tr style=\"text-align: right;\">\n      <th></th>\n      <th>sexo</th>\n      <th>tienes_obesidad</th>\n      <th>horas_ejercicio_actual</th>\n      <th>horas_ejercicio_1ano</th>\n      <th>horas_ejercicio_5ano</th>\n      <th>horas_suenno_calidad</th>\n      <th>suenno_diario_1ano</th>\n      <th>suenno_diario_5anos</th>\n      <th>ejer_act</th>\n      <th>ejer_1</th>\n      <th>ejer_5</th>\n      <th>suenio_act</th>\n      <th>suenio_1</th>\n      <th>suenio_5</th>\n    </tr>\n  </thead>\n  <tbody>\n    <tr>\n      <th>0</th>\n      <td>F</td>\n      <td>2.0</td>\n      <td>5.0</td>\n      <td>10.0</td>\n      <td>5.0</td>\n      <td>4.0</td>\n      <td>9.0</td>\n      <td>9.0</td>\n      <td>B</td>\n      <td>B</td>\n      <td>B</td>\n      <td>M</td>\n      <td>B</td>\n      <td>B</td>\n    </tr>\n    <tr>\n      <th>1</th>\n      <td>F</td>\n      <td>2.0</td>\n      <td>0.0</td>\n      <td>0.0</td>\n      <td>1.5</td>\n      <td>4.0</td>\n      <td>5.0</td>\n      <td>8.0</td>\n      <td>M</td>\n      <td>M</td>\n      <td>M</td>\n      <td>M</td>\n      <td>M</td>\n      <td>B</td>\n    </tr>\n    <tr>\n      <th>2</th>\n      <td>F</td>\n      <td>2.0</td>\n      <td>0.0</td>\n      <td>5.0</td>\n      <td>9.0</td>\n      <td>4.0</td>\n      <td>1.0</td>\n      <td>5.0</td>\n      <td>M</td>\n      <td>B</td>\n      <td>B</td>\n      <td>M</td>\n      <td>M</td>\n      <td>M</td>\n    </tr>\n    <tr>\n      <th>3</th>\n      <td>M</td>\n      <td>2.0</td>\n      <td>3.0</td>\n      <td>5.0</td>\n      <td>15.0</td>\n      <td>3.0</td>\n      <td>5.0</td>\n      <td>7.0</td>\n      <td>B</td>\n      <td>B</td>\n      <td>B</td>\n      <td>M</td>\n      <td>M</td>\n      <td>B</td>\n    </tr>\n    <tr>\n      <th>4</th>\n      <td>F</td>\n      <td>2.0</td>\n      <td>8.0</td>\n      <td>15.0</td>\n      <td>25.0</td>\n      <td>5.0</td>\n      <td>8.0</td>\n      <td>8.0</td>\n      <td>B</td>\n      <td>B</td>\n      <td>B</td>\n      <td>M</td>\n      <td>B</td>\n      <td>B</td>\n    </tr>\n    <tr>\n      <th>...</th>\n      <td>...</td>\n      <td>...</td>\n      <td>...</td>\n      <td>...</td>\n      <td>...</td>\n      <td>...</td>\n      <td>...</td>\n      <td>...</td>\n      <td>...</td>\n      <td>...</td>\n      <td>...</td>\n      <td>...</td>\n      <td>...</td>\n      <td>...</td>\n    </tr>\n    <tr>\n      <th>838</th>\n      <td>M</td>\n      <td>2.0</td>\n      <td>3.0</td>\n      <td>20.0</td>\n      <td>18.0</td>\n      <td>6.0</td>\n      <td>7.0</td>\n      <td>8.0</td>\n      <td>B</td>\n      <td>B</td>\n      <td>B</td>\n      <td>M</td>\n      <td>B</td>\n      <td>B</td>\n    </tr>\n    <tr>\n      <th>839</th>\n      <td>M</td>\n      <td>2.0</td>\n      <td>0.0</td>\n      <td>2.0</td>\n      <td>4.0</td>\n      <td>5.0</td>\n      <td>8.0</td>\n      <td>7.0</td>\n      <td>M</td>\n      <td>M</td>\n      <td>B</td>\n      <td>M</td>\n      <td>B</td>\n      <td>B</td>\n    </tr>\n    <tr>\n      <th>840</th>\n      <td>F</td>\n      <td>2.0</td>\n      <td>0.0</td>\n      <td>2.0</td>\n      <td>4.0</td>\n      <td>4.0</td>\n      <td>7.0</td>\n      <td>9.0</td>\n      <td>M</td>\n      <td>M</td>\n      <td>B</td>\n      <td>M</td>\n      <td>B</td>\n      <td>B</td>\n    </tr>\n    <tr>\n      <th>841</th>\n      <td>F</td>\n      <td>2.0</td>\n      <td>0.0</td>\n      <td>8.0</td>\n      <td>4.0</td>\n      <td>1.0</td>\n      <td>9.0</td>\n      <td>8.0</td>\n      <td>M</td>\n      <td>B</td>\n      <td>B</td>\n      <td>M</td>\n      <td>B</td>\n      <td>B</td>\n    </tr>\n    <tr>\n      <th>842</th>\n      <td>F</td>\n      <td>2.0</td>\n      <td>1.0</td>\n      <td>5.0</td>\n      <td>5.0</td>\n      <td>3.0</td>\n      <td>8.0</td>\n      <td>9.0</td>\n      <td>M</td>\n      <td>B</td>\n      <td>B</td>\n      <td>M</td>\n      <td>B</td>\n      <td>B</td>\n    </tr>\n  </tbody>\n</table>\n<p>723 rows × 14 columns</p>\n</div>"
     },
     "execution_count": 14,
     "metadata": {},
     "output_type": "execute_result"
    }
   ],
   "source": [
    "df_fmed_filtrado['suenio_act'] = df_fmed_filtrado['horas_suenno_calidad'].apply(sleep_habit_case)\n",
    "df_fmed_filtrado['suenio_1'] = df_fmed_filtrado['suenno_diario_1ano'].apply(sleep_habit_case)\n",
    "df_fmed_filtrado['suenio_5'] = df_fmed_filtrado['suenno_diario_5anos'].apply(sleep_habit_case)\n",
    "df_fmed_filtrado"
   ],
   "metadata": {
    "collapsed": false,
    "ExecuteTime": {
     "start_time": "2023-05-03T19:21:00.902602Z",
     "end_time": "2023-05-03T19:21:01.212450Z"
    }
   }
  },
  {
   "cell_type": "markdown",
   "source": [
    "# Creamos variables de categoria Obesidad"
   ],
   "metadata": {
    "collapsed": false
   }
  },
  {
   "cell_type": "code",
   "execution_count": 15,
   "outputs": [],
   "source": [
    "def obesity_case(value):\n",
    "    if (value == 1):\n",
    "        return 1\n",
    "    else:\n",
    "        return 0"
   ],
   "metadata": {
    "collapsed": false,
    "ExecuteTime": {
     "start_time": "2023-05-03T19:21:00.932118Z",
     "end_time": "2023-05-03T19:21:01.212450Z"
    }
   }
  },
  {
   "cell_type": "code",
   "execution_count": 16,
   "outputs": [
    {
     "name": "stderr",
     "output_type": "stream",
     "text": [
      "C:\\Users\\noeam\\AppData\\Local\\Temp\\ipykernel_20268\\3563636041.py:1: SettingWithCopyWarning: \n",
      "A value is trying to be set on a copy of a slice from a DataFrame.\n",
      "Try using .loc[row_indexer,col_indexer] = value instead\n",
      "\n",
      "See the caveats in the documentation: https://pandas.pydata.org/pandas-docs/stable/user_guide/indexing.html#returning-a-view-versus-a-copy\n",
      "  df_2014_filtrado['obesidad'] = df_2014_filtrado['tienes_obesidad'].apply(obesity_case)\n"
     ]
    },
    {
     "data": {
      "text/plain": "     sexo  tienes_obesidad  horas_ejercicio_actual  horas_ejercicio_1ano   \n0       M                2                       2                     2  \\\n1       F                2                       1                     0   \n2       M                2                       1                     1   \n3       M                2                       1                     5   \n4       F                2                       6                     6   \n...   ...              ...                     ...                   ...   \n1070    F                2                       1                     5   \n1071    F                2                      20                     0   \n1072    M                2                       6                     6   \n1073    F                2                       4                     4   \n1074    M                2                       2                     3   \n\n      horas_ejercicio_5ano ejer_act ejer_1 ejer_5  obesidad  \n0                        6        M      M      B         0  \n1                        0        M      M      M         0  \n2                        1        M      M      M         0  \n3                        5        M      B      B         0  \n4                        6        B      B      B         0  \n...                    ...      ...    ...    ...       ...  \n1070                     5        M      B      B         0  \n1071                     0        B      M      M         0  \n1072                     5        B      B      B         0  \n1073                     0        B      B      M         0  \n1074                     5        M      B      B         0  \n\n[1075 rows x 9 columns]",
      "text/html": "<div>\n<style scoped>\n    .dataframe tbody tr th:only-of-type {\n        vertical-align: middle;\n    }\n\n    .dataframe tbody tr th {\n        vertical-align: top;\n    }\n\n    .dataframe thead th {\n        text-align: right;\n    }\n</style>\n<table border=\"1\" class=\"dataframe\">\n  <thead>\n    <tr style=\"text-align: right;\">\n      <th></th>\n      <th>sexo</th>\n      <th>tienes_obesidad</th>\n      <th>horas_ejercicio_actual</th>\n      <th>horas_ejercicio_1ano</th>\n      <th>horas_ejercicio_5ano</th>\n      <th>ejer_act</th>\n      <th>ejer_1</th>\n      <th>ejer_5</th>\n      <th>obesidad</th>\n    </tr>\n  </thead>\n  <tbody>\n    <tr>\n      <th>0</th>\n      <td>M</td>\n      <td>2</td>\n      <td>2</td>\n      <td>2</td>\n      <td>6</td>\n      <td>M</td>\n      <td>M</td>\n      <td>B</td>\n      <td>0</td>\n    </tr>\n    <tr>\n      <th>1</th>\n      <td>F</td>\n      <td>2</td>\n      <td>1</td>\n      <td>0</td>\n      <td>0</td>\n      <td>M</td>\n      <td>M</td>\n      <td>M</td>\n      <td>0</td>\n    </tr>\n    <tr>\n      <th>2</th>\n      <td>M</td>\n      <td>2</td>\n      <td>1</td>\n      <td>1</td>\n      <td>1</td>\n      <td>M</td>\n      <td>M</td>\n      <td>M</td>\n      <td>0</td>\n    </tr>\n    <tr>\n      <th>3</th>\n      <td>M</td>\n      <td>2</td>\n      <td>1</td>\n      <td>5</td>\n      <td>5</td>\n      <td>M</td>\n      <td>B</td>\n      <td>B</td>\n      <td>0</td>\n    </tr>\n    <tr>\n      <th>4</th>\n      <td>F</td>\n      <td>2</td>\n      <td>6</td>\n      <td>6</td>\n      <td>6</td>\n      <td>B</td>\n      <td>B</td>\n      <td>B</td>\n      <td>0</td>\n    </tr>\n    <tr>\n      <th>...</th>\n      <td>...</td>\n      <td>...</td>\n      <td>...</td>\n      <td>...</td>\n      <td>...</td>\n      <td>...</td>\n      <td>...</td>\n      <td>...</td>\n      <td>...</td>\n    </tr>\n    <tr>\n      <th>1070</th>\n      <td>F</td>\n      <td>2</td>\n      <td>1</td>\n      <td>5</td>\n      <td>5</td>\n      <td>M</td>\n      <td>B</td>\n      <td>B</td>\n      <td>0</td>\n    </tr>\n    <tr>\n      <th>1071</th>\n      <td>F</td>\n      <td>2</td>\n      <td>20</td>\n      <td>0</td>\n      <td>0</td>\n      <td>B</td>\n      <td>M</td>\n      <td>M</td>\n      <td>0</td>\n    </tr>\n    <tr>\n      <th>1072</th>\n      <td>M</td>\n      <td>2</td>\n      <td>6</td>\n      <td>6</td>\n      <td>5</td>\n      <td>B</td>\n      <td>B</td>\n      <td>B</td>\n      <td>0</td>\n    </tr>\n    <tr>\n      <th>1073</th>\n      <td>F</td>\n      <td>2</td>\n      <td>4</td>\n      <td>4</td>\n      <td>0</td>\n      <td>B</td>\n      <td>B</td>\n      <td>M</td>\n      <td>0</td>\n    </tr>\n    <tr>\n      <th>1074</th>\n      <td>M</td>\n      <td>2</td>\n      <td>2</td>\n      <td>3</td>\n      <td>5</td>\n      <td>M</td>\n      <td>B</td>\n      <td>B</td>\n      <td>0</td>\n    </tr>\n  </tbody>\n</table>\n<p>1075 rows × 9 columns</p>\n</div>"
     },
     "execution_count": 16,
     "metadata": {},
     "output_type": "execute_result"
    }
   ],
   "source": [
    "df_2014_filtrado['obesidad'] = df_2014_filtrado['tienes_obesidad'].apply(obesity_case)\n",
    "df_2014_filtrado"
   ],
   "metadata": {
    "collapsed": false,
    "ExecuteTime": {
     "start_time": "2023-05-03T19:21:00.956119Z",
     "end_time": "2023-05-03T19:21:01.213489Z"
    }
   }
  },
  {
   "cell_type": "code",
   "execution_count": 17,
   "outputs": [
    {
     "name": "stderr",
     "output_type": "stream",
     "text": [
      "C:\\Users\\noeam\\AppData\\Local\\Temp\\ipykernel_20268\\3308963832.py:1: SettingWithCopyWarning: \n",
      "A value is trying to be set on a copy of a slice from a DataFrame.\n",
      "Try using .loc[row_indexer,col_indexer] = value instead\n",
      "\n",
      "See the caveats in the documentation: https://pandas.pydata.org/pandas-docs/stable/user_guide/indexing.html#returning-a-view-versus-a-copy\n",
      "  df_fmed_filtrado['obesidad'] = df_fmed_filtrado['tienes_obesidad'].apply(obesity_case)\n"
     ]
    },
    {
     "data": {
      "text/plain": "    sexo  tienes_obesidad  horas_ejercicio_actual  horas_ejercicio_1ano   \n0      F              2.0                     5.0                  10.0  \\\n1      F              2.0                     0.0                   0.0   \n2      F              2.0                     0.0                   5.0   \n3      M              2.0                     3.0                   5.0   \n4      F              2.0                     8.0                  15.0   \n..   ...              ...                     ...                   ...   \n838    M              2.0                     3.0                  20.0   \n839    M              2.0                     0.0                   2.0   \n840    F              2.0                     0.0                   2.0   \n841    F              2.0                     0.0                   8.0   \n842    F              2.0                     1.0                   5.0   \n\n     horas_ejercicio_5ano  horas_suenno_calidad  suenno_diario_1ano   \n0                     5.0                   4.0                 9.0  \\\n1                     1.5                   4.0                 5.0   \n2                     9.0                   4.0                 1.0   \n3                    15.0                   3.0                 5.0   \n4                    25.0                   5.0                 8.0   \n..                    ...                   ...                 ...   \n838                  18.0                   6.0                 7.0   \n839                   4.0                   5.0                 8.0   \n840                   4.0                   4.0                 7.0   \n841                   4.0                   1.0                 9.0   \n842                   5.0                   3.0                 8.0   \n\n     suenno_diario_5anos ejer_act ejer_1 ejer_5 suenio_act suenio_1 suenio_5   \n0                    9.0        B      B      B          M        B        B  \\\n1                    8.0        M      M      M          M        M        B   \n2                    5.0        M      B      B          M        M        M   \n3                    7.0        B      B      B          M        M        B   \n4                    8.0        B      B      B          M        B        B   \n..                   ...      ...    ...    ...        ...      ...      ...   \n838                  8.0        B      B      B          M        B        B   \n839                  7.0        M      M      B          M        B        B   \n840                  9.0        M      M      B          M        B        B   \n841                  8.0        M      B      B          M        B        B   \n842                  9.0        M      B      B          M        B        B   \n\n     obesidad  \n0           0  \n1           0  \n2           0  \n3           0  \n4           0  \n..        ...  \n838         0  \n839         0  \n840         0  \n841         0  \n842         0  \n\n[723 rows x 15 columns]",
      "text/html": "<div>\n<style scoped>\n    .dataframe tbody tr th:only-of-type {\n        vertical-align: middle;\n    }\n\n    .dataframe tbody tr th {\n        vertical-align: top;\n    }\n\n    .dataframe thead th {\n        text-align: right;\n    }\n</style>\n<table border=\"1\" class=\"dataframe\">\n  <thead>\n    <tr style=\"text-align: right;\">\n      <th></th>\n      <th>sexo</th>\n      <th>tienes_obesidad</th>\n      <th>horas_ejercicio_actual</th>\n      <th>horas_ejercicio_1ano</th>\n      <th>horas_ejercicio_5ano</th>\n      <th>horas_suenno_calidad</th>\n      <th>suenno_diario_1ano</th>\n      <th>suenno_diario_5anos</th>\n      <th>ejer_act</th>\n      <th>ejer_1</th>\n      <th>ejer_5</th>\n      <th>suenio_act</th>\n      <th>suenio_1</th>\n      <th>suenio_5</th>\n      <th>obesidad</th>\n    </tr>\n  </thead>\n  <tbody>\n    <tr>\n      <th>0</th>\n      <td>F</td>\n      <td>2.0</td>\n      <td>5.0</td>\n      <td>10.0</td>\n      <td>5.0</td>\n      <td>4.0</td>\n      <td>9.0</td>\n      <td>9.0</td>\n      <td>B</td>\n      <td>B</td>\n      <td>B</td>\n      <td>M</td>\n      <td>B</td>\n      <td>B</td>\n      <td>0</td>\n    </tr>\n    <tr>\n      <th>1</th>\n      <td>F</td>\n      <td>2.0</td>\n      <td>0.0</td>\n      <td>0.0</td>\n      <td>1.5</td>\n      <td>4.0</td>\n      <td>5.0</td>\n      <td>8.0</td>\n      <td>M</td>\n      <td>M</td>\n      <td>M</td>\n      <td>M</td>\n      <td>M</td>\n      <td>B</td>\n      <td>0</td>\n    </tr>\n    <tr>\n      <th>2</th>\n      <td>F</td>\n      <td>2.0</td>\n      <td>0.0</td>\n      <td>5.0</td>\n      <td>9.0</td>\n      <td>4.0</td>\n      <td>1.0</td>\n      <td>5.0</td>\n      <td>M</td>\n      <td>B</td>\n      <td>B</td>\n      <td>M</td>\n      <td>M</td>\n      <td>M</td>\n      <td>0</td>\n    </tr>\n    <tr>\n      <th>3</th>\n      <td>M</td>\n      <td>2.0</td>\n      <td>3.0</td>\n      <td>5.0</td>\n      <td>15.0</td>\n      <td>3.0</td>\n      <td>5.0</td>\n      <td>7.0</td>\n      <td>B</td>\n      <td>B</td>\n      <td>B</td>\n      <td>M</td>\n      <td>M</td>\n      <td>B</td>\n      <td>0</td>\n    </tr>\n    <tr>\n      <th>4</th>\n      <td>F</td>\n      <td>2.0</td>\n      <td>8.0</td>\n      <td>15.0</td>\n      <td>25.0</td>\n      <td>5.0</td>\n      <td>8.0</td>\n      <td>8.0</td>\n      <td>B</td>\n      <td>B</td>\n      <td>B</td>\n      <td>M</td>\n      <td>B</td>\n      <td>B</td>\n      <td>0</td>\n    </tr>\n    <tr>\n      <th>...</th>\n      <td>...</td>\n      <td>...</td>\n      <td>...</td>\n      <td>...</td>\n      <td>...</td>\n      <td>...</td>\n      <td>...</td>\n      <td>...</td>\n      <td>...</td>\n      <td>...</td>\n      <td>...</td>\n      <td>...</td>\n      <td>...</td>\n      <td>...</td>\n      <td>...</td>\n    </tr>\n    <tr>\n      <th>838</th>\n      <td>M</td>\n      <td>2.0</td>\n      <td>3.0</td>\n      <td>20.0</td>\n      <td>18.0</td>\n      <td>6.0</td>\n      <td>7.0</td>\n      <td>8.0</td>\n      <td>B</td>\n      <td>B</td>\n      <td>B</td>\n      <td>M</td>\n      <td>B</td>\n      <td>B</td>\n      <td>0</td>\n    </tr>\n    <tr>\n      <th>839</th>\n      <td>M</td>\n      <td>2.0</td>\n      <td>0.0</td>\n      <td>2.0</td>\n      <td>4.0</td>\n      <td>5.0</td>\n      <td>8.0</td>\n      <td>7.0</td>\n      <td>M</td>\n      <td>M</td>\n      <td>B</td>\n      <td>M</td>\n      <td>B</td>\n      <td>B</td>\n      <td>0</td>\n    </tr>\n    <tr>\n      <th>840</th>\n      <td>F</td>\n      <td>2.0</td>\n      <td>0.0</td>\n      <td>2.0</td>\n      <td>4.0</td>\n      <td>4.0</td>\n      <td>7.0</td>\n      <td>9.0</td>\n      <td>M</td>\n      <td>M</td>\n      <td>B</td>\n      <td>M</td>\n      <td>B</td>\n      <td>B</td>\n      <td>0</td>\n    </tr>\n    <tr>\n      <th>841</th>\n      <td>F</td>\n      <td>2.0</td>\n      <td>0.0</td>\n      <td>8.0</td>\n      <td>4.0</td>\n      <td>1.0</td>\n      <td>9.0</td>\n      <td>8.0</td>\n      <td>M</td>\n      <td>B</td>\n      <td>B</td>\n      <td>M</td>\n      <td>B</td>\n      <td>B</td>\n      <td>0</td>\n    </tr>\n    <tr>\n      <th>842</th>\n      <td>F</td>\n      <td>2.0</td>\n      <td>1.0</td>\n      <td>5.0</td>\n      <td>5.0</td>\n      <td>3.0</td>\n      <td>8.0</td>\n      <td>9.0</td>\n      <td>M</td>\n      <td>B</td>\n      <td>B</td>\n      <td>M</td>\n      <td>B</td>\n      <td>B</td>\n      <td>0</td>\n    </tr>\n  </tbody>\n</table>\n<p>723 rows × 15 columns</p>\n</div>"
     },
     "execution_count": 17,
     "metadata": {},
     "output_type": "execute_result"
    }
   ],
   "source": [
    "df_fmed_filtrado['obesidad'] = df_fmed_filtrado['tienes_obesidad'].apply(obesity_case)\n",
    "df_fmed_filtrado"
   ],
   "metadata": {
    "collapsed": false,
    "ExecuteTime": {
     "start_time": "2023-05-03T19:21:00.980120Z",
     "end_time": "2023-05-03T19:21:01.213489Z"
    }
   }
  },
  {
   "cell_type": "code",
   "execution_count": 18,
   "outputs": [],
   "source": [
    "df_2014_filtrado.to_csv('~/Documents/git/github/proyecto_pt2/outputs/2014_final.csv', index=False, header=True)\n",
    "df_fmed_filtrado.to_csv('~/Documents/git/github/proyecto_pt2/outputs/fmed_final.csv', index=False, header=True)"
   ],
   "metadata": {
    "collapsed": false,
    "ExecuteTime": {
     "start_time": "2023-05-03T19:21:01.009938Z",
     "end_time": "2023-05-03T19:21:01.253532Z"
    }
   }
  },
  {
   "cell_type": "code",
   "execution_count": 19,
   "outputs": [
    {
     "data": {
      "text/plain": "    sexo  tienes_obesidad  horas_ejercicio_actual  horas_ejercicio_1ano   \n0      M              2.0                     2.0                   2.0  \\\n1      F              2.0                     1.0                   0.0   \n2      M              2.0                     1.0                   1.0   \n3      M              2.0                     1.0                   5.0   \n4      F              2.0                     6.0                   6.0   \n..   ...              ...                     ...                   ...   \n838    M              2.0                     3.0                  20.0   \n839    M              2.0                     0.0                   2.0   \n840    F              2.0                     0.0                   2.0   \n841    F              2.0                     0.0                   8.0   \n842    F              2.0                     1.0                   5.0   \n\n     horas_ejercicio_5ano ejer_act ejer_1 ejer_5  obesidad  \n0                     6.0        M      M      B         0  \n1                     0.0        M      M      M         0  \n2                     1.0        M      M      M         0  \n3                     5.0        M      B      B         0  \n4                     6.0        B      B      B         0  \n..                    ...      ...    ...    ...       ...  \n838                  18.0        B      B      B         0  \n839                   4.0        M      M      B         0  \n840                   4.0        M      M      B         0  \n841                   4.0        M      B      B         0  \n842                   5.0        M      B      B         0  \n\n[1798 rows x 9 columns]",
      "text/html": "<div>\n<style scoped>\n    .dataframe tbody tr th:only-of-type {\n        vertical-align: middle;\n    }\n\n    .dataframe tbody tr th {\n        vertical-align: top;\n    }\n\n    .dataframe thead th {\n        text-align: right;\n    }\n</style>\n<table border=\"1\" class=\"dataframe\">\n  <thead>\n    <tr style=\"text-align: right;\">\n      <th></th>\n      <th>sexo</th>\n      <th>tienes_obesidad</th>\n      <th>horas_ejercicio_actual</th>\n      <th>horas_ejercicio_1ano</th>\n      <th>horas_ejercicio_5ano</th>\n      <th>ejer_act</th>\n      <th>ejer_1</th>\n      <th>ejer_5</th>\n      <th>obesidad</th>\n    </tr>\n  </thead>\n  <tbody>\n    <tr>\n      <th>0</th>\n      <td>M</td>\n      <td>2.0</td>\n      <td>2.0</td>\n      <td>2.0</td>\n      <td>6.0</td>\n      <td>M</td>\n      <td>M</td>\n      <td>B</td>\n      <td>0</td>\n    </tr>\n    <tr>\n      <th>1</th>\n      <td>F</td>\n      <td>2.0</td>\n      <td>1.0</td>\n      <td>0.0</td>\n      <td>0.0</td>\n      <td>M</td>\n      <td>M</td>\n      <td>M</td>\n      <td>0</td>\n    </tr>\n    <tr>\n      <th>2</th>\n      <td>M</td>\n      <td>2.0</td>\n      <td>1.0</td>\n      <td>1.0</td>\n      <td>1.0</td>\n      <td>M</td>\n      <td>M</td>\n      <td>M</td>\n      <td>0</td>\n    </tr>\n    <tr>\n      <th>3</th>\n      <td>M</td>\n      <td>2.0</td>\n      <td>1.0</td>\n      <td>5.0</td>\n      <td>5.0</td>\n      <td>M</td>\n      <td>B</td>\n      <td>B</td>\n      <td>0</td>\n    </tr>\n    <tr>\n      <th>4</th>\n      <td>F</td>\n      <td>2.0</td>\n      <td>6.0</td>\n      <td>6.0</td>\n      <td>6.0</td>\n      <td>B</td>\n      <td>B</td>\n      <td>B</td>\n      <td>0</td>\n    </tr>\n    <tr>\n      <th>...</th>\n      <td>...</td>\n      <td>...</td>\n      <td>...</td>\n      <td>...</td>\n      <td>...</td>\n      <td>...</td>\n      <td>...</td>\n      <td>...</td>\n      <td>...</td>\n    </tr>\n    <tr>\n      <th>838</th>\n      <td>M</td>\n      <td>2.0</td>\n      <td>3.0</td>\n      <td>20.0</td>\n      <td>18.0</td>\n      <td>B</td>\n      <td>B</td>\n      <td>B</td>\n      <td>0</td>\n    </tr>\n    <tr>\n      <th>839</th>\n      <td>M</td>\n      <td>2.0</td>\n      <td>0.0</td>\n      <td>2.0</td>\n      <td>4.0</td>\n      <td>M</td>\n      <td>M</td>\n      <td>B</td>\n      <td>0</td>\n    </tr>\n    <tr>\n      <th>840</th>\n      <td>F</td>\n      <td>2.0</td>\n      <td>0.0</td>\n      <td>2.0</td>\n      <td>4.0</td>\n      <td>M</td>\n      <td>M</td>\n      <td>B</td>\n      <td>0</td>\n    </tr>\n    <tr>\n      <th>841</th>\n      <td>F</td>\n      <td>2.0</td>\n      <td>0.0</td>\n      <td>8.0</td>\n      <td>4.0</td>\n      <td>M</td>\n      <td>B</td>\n      <td>B</td>\n      <td>0</td>\n    </tr>\n    <tr>\n      <th>842</th>\n      <td>F</td>\n      <td>2.0</td>\n      <td>1.0</td>\n      <td>5.0</td>\n      <td>5.0</td>\n      <td>M</td>\n      <td>B</td>\n      <td>B</td>\n      <td>0</td>\n    </tr>\n  </tbody>\n</table>\n<p>1798 rows × 9 columns</p>\n</div>"
     },
     "execution_count": 19,
     "metadata": {},
     "output_type": "execute_result"
    }
   ],
   "source": [
    "df = pd.concat([df_2014_filtrado, df_fmed_filtrado])\n",
    "variables = ['horas_suenno_calidad', 'suenno_diario_1ano', 'suenno_diario_5anos', 'suenio_act', 'suenio_1', 'suenio_5']\n",
    "df_final = df.drop(variables, axis=1)\n",
    "df_final"
   ],
   "metadata": {
    "collapsed": false,
    "ExecuteTime": {
     "start_time": "2023-05-03T19:21:01.040800Z",
     "end_time": "2023-05-03T19:21:01.315543Z"
    }
   }
  },
  {
   "cell_type": "code",
   "execution_count": 20,
   "outputs": [],
   "source": [
    "df_final.to_csv('~/Documents/git/github/proyecto_pt2/outputs/completo_final.csv', index=False, header=True)"
   ],
   "metadata": {
    "collapsed": false,
    "ExecuteTime": {
     "start_time": "2023-05-03T19:21:01.072803Z",
     "end_time": "2023-05-03T19:21:01.315543Z"
    }
   }
  }
 ],
 "metadata": {
  "kernelspec": {
   "display_name": "Python 3",
   "language": "python",
   "name": "python3"
  },
  "language_info": {
   "codemirror_mode": {
    "name": "ipython",
    "version": 2
   },
   "file_extension": ".py",
   "mimetype": "text/x-python",
   "name": "python",
   "nbconvert_exporter": "python",
   "pygments_lexer": "ipython2",
   "version": "2.7.6"
  }
 },
 "nbformat": 4,
 "nbformat_minor": 0
}
