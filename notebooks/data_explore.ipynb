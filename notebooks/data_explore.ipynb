{
 "cells": [
  {
   "cell_type": "markdown",
   "source": [
    "# Cargamos los datos"
   ],
   "metadata": {
    "collapsed": false
   }
  },
  {
   "cell_type": "code",
   "execution_count": 1,
   "outputs": [],
   "source": [
    "import pandas as pd"
   ],
   "metadata": {
    "collapsed": false
   }
  },
  {
   "cell_type": "code",
   "execution_count": 2,
   "outputs": [
    {
     "data": {
      "text/plain": "     sexo  tienes_obesidad  horas_ejercicio_actual  horas_ejercicio_1ano   \n0       M              2.0                     2.0                   2.0  \\\n1       F              2.0                     1.0                   0.0   \n2       M              2.0                     1.0                   1.0   \n3       M              2.0                     1.0                   5.0   \n4       F              2.0                     6.0                   6.0   \n...   ...              ...                     ...                   ...   \n1793    M              2.0                     3.0                  20.0   \n1794    M              2.0                     0.0                   2.0   \n1795    F              2.0                     0.0                   2.0   \n1796    F              2.0                     0.0                   8.0   \n1797    F              2.0                     1.0                   5.0   \n\n      horas_ejercicio_5ano ejer_act ejer_1 ejer_5  obesidad  \n0                      6.0        M      M      B         0  \n1                      0.0        M      M      M         0  \n2                      1.0        M      M      M         0  \n3                      5.0        M      B      B         0  \n4                      6.0        B      B      B         0  \n...                    ...      ...    ...    ...       ...  \n1793                  18.0        B      B      B         0  \n1794                   4.0        M      M      B         0  \n1795                   4.0        M      M      B         0  \n1796                   4.0        M      B      B         0  \n1797                   5.0        M      B      B         0  \n\n[1798 rows x 9 columns]",
      "text/html": "<div>\n<style scoped>\n    .dataframe tbody tr th:only-of-type {\n        vertical-align: middle;\n    }\n\n    .dataframe tbody tr th {\n        vertical-align: top;\n    }\n\n    .dataframe thead th {\n        text-align: right;\n    }\n</style>\n<table border=\"1\" class=\"dataframe\">\n  <thead>\n    <tr style=\"text-align: right;\">\n      <th></th>\n      <th>sexo</th>\n      <th>tienes_obesidad</th>\n      <th>horas_ejercicio_actual</th>\n      <th>horas_ejercicio_1ano</th>\n      <th>horas_ejercicio_5ano</th>\n      <th>ejer_act</th>\n      <th>ejer_1</th>\n      <th>ejer_5</th>\n      <th>obesidad</th>\n    </tr>\n  </thead>\n  <tbody>\n    <tr>\n      <th>0</th>\n      <td>M</td>\n      <td>2.0</td>\n      <td>2.0</td>\n      <td>2.0</td>\n      <td>6.0</td>\n      <td>M</td>\n      <td>M</td>\n      <td>B</td>\n      <td>0</td>\n    </tr>\n    <tr>\n      <th>1</th>\n      <td>F</td>\n      <td>2.0</td>\n      <td>1.0</td>\n      <td>0.0</td>\n      <td>0.0</td>\n      <td>M</td>\n      <td>M</td>\n      <td>M</td>\n      <td>0</td>\n    </tr>\n    <tr>\n      <th>2</th>\n      <td>M</td>\n      <td>2.0</td>\n      <td>1.0</td>\n      <td>1.0</td>\n      <td>1.0</td>\n      <td>M</td>\n      <td>M</td>\n      <td>M</td>\n      <td>0</td>\n    </tr>\n    <tr>\n      <th>3</th>\n      <td>M</td>\n      <td>2.0</td>\n      <td>1.0</td>\n      <td>5.0</td>\n      <td>5.0</td>\n      <td>M</td>\n      <td>B</td>\n      <td>B</td>\n      <td>0</td>\n    </tr>\n    <tr>\n      <th>4</th>\n      <td>F</td>\n      <td>2.0</td>\n      <td>6.0</td>\n      <td>6.0</td>\n      <td>6.0</td>\n      <td>B</td>\n      <td>B</td>\n      <td>B</td>\n      <td>0</td>\n    </tr>\n    <tr>\n      <th>...</th>\n      <td>...</td>\n      <td>...</td>\n      <td>...</td>\n      <td>...</td>\n      <td>...</td>\n      <td>...</td>\n      <td>...</td>\n      <td>...</td>\n      <td>...</td>\n    </tr>\n    <tr>\n      <th>1793</th>\n      <td>M</td>\n      <td>2.0</td>\n      <td>3.0</td>\n      <td>20.0</td>\n      <td>18.0</td>\n      <td>B</td>\n      <td>B</td>\n      <td>B</td>\n      <td>0</td>\n    </tr>\n    <tr>\n      <th>1794</th>\n      <td>M</td>\n      <td>2.0</td>\n      <td>0.0</td>\n      <td>2.0</td>\n      <td>4.0</td>\n      <td>M</td>\n      <td>M</td>\n      <td>B</td>\n      <td>0</td>\n    </tr>\n    <tr>\n      <th>1795</th>\n      <td>F</td>\n      <td>2.0</td>\n      <td>0.0</td>\n      <td>2.0</td>\n      <td>4.0</td>\n      <td>M</td>\n      <td>M</td>\n      <td>B</td>\n      <td>0</td>\n    </tr>\n    <tr>\n      <th>1796</th>\n      <td>F</td>\n      <td>2.0</td>\n      <td>0.0</td>\n      <td>8.0</td>\n      <td>4.0</td>\n      <td>M</td>\n      <td>B</td>\n      <td>B</td>\n      <td>0</td>\n    </tr>\n    <tr>\n      <th>1797</th>\n      <td>F</td>\n      <td>2.0</td>\n      <td>1.0</td>\n      <td>5.0</td>\n      <td>5.0</td>\n      <td>M</td>\n      <td>B</td>\n      <td>B</td>\n      <td>0</td>\n    </tr>\n  </tbody>\n</table>\n<p>1798 rows × 9 columns</p>\n</div>"
     },
     "execution_count": 2,
     "metadata": {},
     "output_type": "execute_result"
    }
   ],
   "source": [
    "df_comp = pd.read_csv(\"C:/Users/noeam/Documents/git/github/proyecto_pt2/outputs/completo_final.csv\")\n",
    "df_comp"
   ],
   "metadata": {
    "collapsed": false,
    "ExecuteTime": {
     "start_time": "2023-05-03T19:23:52.800879Z",
     "end_time": "2023-05-03T19:23:52.839886Z"
    }
   }
  },
  {
   "cell_type": "code",
   "execution_count": 4,
   "outputs": [
    {
     "name": "stdout",
     "output_type": "stream",
     "text": [
      "<class 'pandas.core.frame.DataFrame'>\n",
      "RangeIndex: 1798 entries, 0 to 1797\n",
      "Data columns (total 9 columns):\n",
      " #   Column                  Non-Null Count  Dtype  \n",
      "---  ------                  --------------  -----  \n",
      " 0   sexo                    1798 non-null   object \n",
      " 1   tienes_obesidad         1798 non-null   float64\n",
      " 2   horas_ejercicio_actual  1798 non-null   float64\n",
      " 3   horas_ejercicio_1ano    1798 non-null   float64\n",
      " 4   horas_ejercicio_5ano    1798 non-null   float64\n",
      " 5   ejer_act                1798 non-null   object \n",
      " 6   ejer_1                  1798 non-null   object \n",
      " 7   ejer_5                  1798 non-null   object \n",
      " 8   obesidad                1798 non-null   int64  \n",
      "dtypes: float64(4), int64(1), object(4)\n",
      "memory usage: 126.5+ KB\n"
     ]
    }
   ],
   "source": [
    "df_comp.info()"
   ],
   "metadata": {
    "collapsed": false,
    "ExecuteTime": {
     "start_time": "2023-05-03T19:24:09.095000Z",
     "end_time": "2023-05-03T19:24:09.109001Z"
    }
   }
  },
  {
   "cell_type": "code",
   "execution_count": 3,
   "outputs": [
    {
     "data": {
      "text/plain": "    sexo  tienes_obesidad  horas_ejercicio_actual  horas_ejercicio_1ano   \n0      F              2.0                     5.0                  10.0  \\\n1      F              2.0                     0.0                   0.0   \n2      F              2.0                     0.0                   5.0   \n3      M              2.0                     3.0                   5.0   \n4      F              2.0                     8.0                  15.0   \n..   ...              ...                     ...                   ...   \n718    M              2.0                     3.0                  20.0   \n719    M              2.0                     0.0                   2.0   \n720    F              2.0                     0.0                   2.0   \n721    F              2.0                     0.0                   8.0   \n722    F              2.0                     1.0                   5.0   \n\n     horas_ejercicio_5ano  horas_suenno_calidad  suenno_diario_1ano   \n0                     5.0                   4.0                 9.0  \\\n1                     1.5                   4.0                 5.0   \n2                     9.0                   4.0                 1.0   \n3                    15.0                   3.0                 5.0   \n4                    25.0                   5.0                 8.0   \n..                    ...                   ...                 ...   \n718                  18.0                   6.0                 7.0   \n719                   4.0                   5.0                 8.0   \n720                   4.0                   4.0                 7.0   \n721                   4.0                   1.0                 9.0   \n722                   5.0                   3.0                 8.0   \n\n     suenno_diario_5anos ejer_act ejer_1 ejer_5 suenio_act suenio_1 suenio_5   \n0                    9.0        B      B      B          M        B        B  \\\n1                    8.0        M      M      M          M        M        B   \n2                    5.0        M      B      B          M        M        M   \n3                    7.0        B      B      B          M        M        B   \n4                    8.0        B      B      B          M        B        B   \n..                   ...      ...    ...    ...        ...      ...      ...   \n718                  8.0        B      B      B          M        B        B   \n719                  7.0        M      M      B          M        B        B   \n720                  9.0        M      M      B          M        B        B   \n721                  8.0        M      B      B          M        B        B   \n722                  9.0        M      B      B          M        B        B   \n\n     obesidad  \n0           0  \n1           0  \n2           0  \n3           0  \n4           0  \n..        ...  \n718         0  \n719         0  \n720         0  \n721         0  \n722         0  \n\n[723 rows x 15 columns]",
      "text/html": "<div>\n<style scoped>\n    .dataframe tbody tr th:only-of-type {\n        vertical-align: middle;\n    }\n\n    .dataframe tbody tr th {\n        vertical-align: top;\n    }\n\n    .dataframe thead th {\n        text-align: right;\n    }\n</style>\n<table border=\"1\" class=\"dataframe\">\n  <thead>\n    <tr style=\"text-align: right;\">\n      <th></th>\n      <th>sexo</th>\n      <th>tienes_obesidad</th>\n      <th>horas_ejercicio_actual</th>\n      <th>horas_ejercicio_1ano</th>\n      <th>horas_ejercicio_5ano</th>\n      <th>horas_suenno_calidad</th>\n      <th>suenno_diario_1ano</th>\n      <th>suenno_diario_5anos</th>\n      <th>ejer_act</th>\n      <th>ejer_1</th>\n      <th>ejer_5</th>\n      <th>suenio_act</th>\n      <th>suenio_1</th>\n      <th>suenio_5</th>\n      <th>obesidad</th>\n    </tr>\n  </thead>\n  <tbody>\n    <tr>\n      <th>0</th>\n      <td>F</td>\n      <td>2.0</td>\n      <td>5.0</td>\n      <td>10.0</td>\n      <td>5.0</td>\n      <td>4.0</td>\n      <td>9.0</td>\n      <td>9.0</td>\n      <td>B</td>\n      <td>B</td>\n      <td>B</td>\n      <td>M</td>\n      <td>B</td>\n      <td>B</td>\n      <td>0</td>\n    </tr>\n    <tr>\n      <th>1</th>\n      <td>F</td>\n      <td>2.0</td>\n      <td>0.0</td>\n      <td>0.0</td>\n      <td>1.5</td>\n      <td>4.0</td>\n      <td>5.0</td>\n      <td>8.0</td>\n      <td>M</td>\n      <td>M</td>\n      <td>M</td>\n      <td>M</td>\n      <td>M</td>\n      <td>B</td>\n      <td>0</td>\n    </tr>\n    <tr>\n      <th>2</th>\n      <td>F</td>\n      <td>2.0</td>\n      <td>0.0</td>\n      <td>5.0</td>\n      <td>9.0</td>\n      <td>4.0</td>\n      <td>1.0</td>\n      <td>5.0</td>\n      <td>M</td>\n      <td>B</td>\n      <td>B</td>\n      <td>M</td>\n      <td>M</td>\n      <td>M</td>\n      <td>0</td>\n    </tr>\n    <tr>\n      <th>3</th>\n      <td>M</td>\n      <td>2.0</td>\n      <td>3.0</td>\n      <td>5.0</td>\n      <td>15.0</td>\n      <td>3.0</td>\n      <td>5.0</td>\n      <td>7.0</td>\n      <td>B</td>\n      <td>B</td>\n      <td>B</td>\n      <td>M</td>\n      <td>M</td>\n      <td>B</td>\n      <td>0</td>\n    </tr>\n    <tr>\n      <th>4</th>\n      <td>F</td>\n      <td>2.0</td>\n      <td>8.0</td>\n      <td>15.0</td>\n      <td>25.0</td>\n      <td>5.0</td>\n      <td>8.0</td>\n      <td>8.0</td>\n      <td>B</td>\n      <td>B</td>\n      <td>B</td>\n      <td>M</td>\n      <td>B</td>\n      <td>B</td>\n      <td>0</td>\n    </tr>\n    <tr>\n      <th>...</th>\n      <td>...</td>\n      <td>...</td>\n      <td>...</td>\n      <td>...</td>\n      <td>...</td>\n      <td>...</td>\n      <td>...</td>\n      <td>...</td>\n      <td>...</td>\n      <td>...</td>\n      <td>...</td>\n      <td>...</td>\n      <td>...</td>\n      <td>...</td>\n      <td>...</td>\n    </tr>\n    <tr>\n      <th>718</th>\n      <td>M</td>\n      <td>2.0</td>\n      <td>3.0</td>\n      <td>20.0</td>\n      <td>18.0</td>\n      <td>6.0</td>\n      <td>7.0</td>\n      <td>8.0</td>\n      <td>B</td>\n      <td>B</td>\n      <td>B</td>\n      <td>M</td>\n      <td>B</td>\n      <td>B</td>\n      <td>0</td>\n    </tr>\n    <tr>\n      <th>719</th>\n      <td>M</td>\n      <td>2.0</td>\n      <td>0.0</td>\n      <td>2.0</td>\n      <td>4.0</td>\n      <td>5.0</td>\n      <td>8.0</td>\n      <td>7.0</td>\n      <td>M</td>\n      <td>M</td>\n      <td>B</td>\n      <td>M</td>\n      <td>B</td>\n      <td>B</td>\n      <td>0</td>\n    </tr>\n    <tr>\n      <th>720</th>\n      <td>F</td>\n      <td>2.0</td>\n      <td>0.0</td>\n      <td>2.0</td>\n      <td>4.0</td>\n      <td>4.0</td>\n      <td>7.0</td>\n      <td>9.0</td>\n      <td>M</td>\n      <td>M</td>\n      <td>B</td>\n      <td>M</td>\n      <td>B</td>\n      <td>B</td>\n      <td>0</td>\n    </tr>\n    <tr>\n      <th>721</th>\n      <td>F</td>\n      <td>2.0</td>\n      <td>0.0</td>\n      <td>8.0</td>\n      <td>4.0</td>\n      <td>1.0</td>\n      <td>9.0</td>\n      <td>8.0</td>\n      <td>M</td>\n      <td>B</td>\n      <td>B</td>\n      <td>M</td>\n      <td>B</td>\n      <td>B</td>\n      <td>0</td>\n    </tr>\n    <tr>\n      <th>722</th>\n      <td>F</td>\n      <td>2.0</td>\n      <td>1.0</td>\n      <td>5.0</td>\n      <td>5.0</td>\n      <td>3.0</td>\n      <td>8.0</td>\n      <td>9.0</td>\n      <td>M</td>\n      <td>B</td>\n      <td>B</td>\n      <td>M</td>\n      <td>B</td>\n      <td>B</td>\n      <td>0</td>\n    </tr>\n  </tbody>\n</table>\n<p>723 rows × 15 columns</p>\n</div>"
     },
     "execution_count": 3,
     "metadata": {},
     "output_type": "execute_result"
    }
   ],
   "source": [
    "df_fmed = pd.read_csv(\"C:/Users/noeam/Documents/git/github/proyecto_pt2/outputs/fmed_final.csv\")\n",
    "df_fmed"
   ],
   "metadata": {
    "collapsed": false,
    "ExecuteTime": {
     "start_time": "2023-05-03T19:23:55.025288Z",
     "end_time": "2023-05-03T19:23:55.052563Z"
    }
   }
  },
  {
   "cell_type": "code",
   "execution_count": 5,
   "outputs": [
    {
     "name": "stdout",
     "output_type": "stream",
     "text": [
      "<class 'pandas.core.frame.DataFrame'>\n",
      "RangeIndex: 723 entries, 0 to 722\n",
      "Data columns (total 15 columns):\n",
      " #   Column                  Non-Null Count  Dtype  \n",
      "---  ------                  --------------  -----  \n",
      " 0   sexo                    723 non-null    object \n",
      " 1   tienes_obesidad         723 non-null    float64\n",
      " 2   horas_ejercicio_actual  723 non-null    float64\n",
      " 3   horas_ejercicio_1ano    723 non-null    float64\n",
      " 4   horas_ejercicio_5ano    723 non-null    float64\n",
      " 5   horas_suenno_calidad    723 non-null    float64\n",
      " 6   suenno_diario_1ano      723 non-null    float64\n",
      " 7   suenno_diario_5anos     723 non-null    float64\n",
      " 8   ejer_act                723 non-null    object \n",
      " 9   ejer_1                  723 non-null    object \n",
      " 10  ejer_5                  723 non-null    object \n",
      " 11  suenio_act              723 non-null    object \n",
      " 12  suenio_1                723 non-null    object \n",
      " 13  suenio_5                723 non-null    object \n",
      " 14  obesidad                723 non-null    int64  \n",
      "dtypes: float64(7), int64(1), object(7)\n",
      "memory usage: 84.9+ KB\n"
     ]
    }
   ],
   "source": [
    "df_fmed.info()"
   ],
   "metadata": {
    "collapsed": false,
    "ExecuteTime": {
     "start_time": "2023-05-03T19:24:17.527172Z",
     "end_time": "2023-05-03T19:24:17.550163Z"
    }
   }
  }
 ],
 "metadata": {
  "kernelspec": {
   "display_name": "Python 3",
   "language": "python",
   "name": "python3"
  },
  "language_info": {
   "codemirror_mode": {
    "name": "ipython",
    "version": 2
   },
   "file_extension": ".py",
   "mimetype": "text/x-python",
   "name": "python",
   "nbconvert_exporter": "python",
   "pygments_lexer": "ipython2",
   "version": "2.7.6"
  }
 },
 "nbformat": 4,
 "nbformat_minor": 0
}
