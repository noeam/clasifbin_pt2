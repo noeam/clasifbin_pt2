{
 "cells": [
  {
   "cell_type": "markdown",
   "metadata": {},
   "source": [
    "# Cargamos los datos"
   ]
  },
  {
   "cell_type": "code",
   "execution_count": 1,
   "metadata": {
    "ExecuteTime": {
     "end_time": "2023-05-16T16:19:25.086990300Z",
     "start_time": "2023-05-16T16:19:23.152933300Z"
    }
   },
   "outputs": [],
   "source": [
    "import pandas as pd"
   ]
  },
  {
   "cell_type": "code",
   "execution_count": 2,
   "metadata": {
    "ExecuteTime": {
     "end_time": "2023-05-16T16:19:29.907740700Z",
     "start_time": "2023-05-16T16:19:29.828500200Z"
    }
   },
   "outputs": [
    {
     "data": {
      "text/plain": "     grado_estudios  tienes_obesidad  estatura  peso_actual      imc sexo   \n0                 T              2.0    158.00        775.0  31045.0    M  \\\n1                 T              2.0    149.00         79.0  35584.0    F   \n2                 L              2.0    174.00         70.0  23121.0    M   \n3                 S              2.0    168.00         65.0   2303.0    M   \n4                 B              2.0    165.00         55.0  20202.0    F   \n...             ...              ...       ...          ...      ...  ...   \n1914              B              2.0      1.66         67.0      NaN    M   \n1915              B              2.0      1.60         65.0      NaN    F   \n1916              B              2.0      1.68         88.0      NaN    F   \n1917              B              2.0      1.62         63.0      NaN    F   \n1918            NaN              NaN       NaN          NaN      NaN  NaN   \n\n      horas_ejercicio_actual  horas_ejercicio_1ano  horas_ejercicio_5ano   \n0                        2.0                   2.0                   6.0  \\\n1                        1.0                   0.0                   0.0   \n2                        1.0                   1.0                   1.0   \n3                        1.0                   5.0                   5.0   \n4                        6.0                   6.0                   6.0   \n...                      ...                   ...                   ...   \n1914                     0.0                   2.0                   4.0   \n1915                     0.0                   2.0                   4.0   \n1916                     0.0                   8.0                   4.0   \n1917                     1.0                   5.0                   5.0   \n1918                     NaN                   NaN                   NaN   \n\n            IMC ejer_act ejer_1 ejer_5  obesidad  \n0     31.045000        M      M      B         1  \n1     35.584000        M      M      M         1  \n2     23.121000        M      M      M         0  \n3     23.030000        M      B      B         0  \n4     20.202000        B      B      B         0  \n...         ...      ...    ...    ...       ...  \n1914  24.314124        M      M      B         0  \n1915  25.390625        M      M      B         1  \n1916  31.179138        M      B      B         1  \n1917  24.005487        M      B      B         0  \n1918        NaN        M      M      M         0  \n\n[1919 rows x 14 columns]",
      "text/html": "<div>\n<style scoped>\n    .dataframe tbody tr th:only-of-type {\n        vertical-align: middle;\n    }\n\n    .dataframe tbody tr th {\n        vertical-align: top;\n    }\n\n    .dataframe thead th {\n        text-align: right;\n    }\n</style>\n<table border=\"1\" class=\"dataframe\">\n  <thead>\n    <tr style=\"text-align: right;\">\n      <th></th>\n      <th>grado_estudios</th>\n      <th>tienes_obesidad</th>\n      <th>estatura</th>\n      <th>peso_actual</th>\n      <th>imc</th>\n      <th>sexo</th>\n      <th>horas_ejercicio_actual</th>\n      <th>horas_ejercicio_1ano</th>\n      <th>horas_ejercicio_5ano</th>\n      <th>IMC</th>\n      <th>ejer_act</th>\n      <th>ejer_1</th>\n      <th>ejer_5</th>\n      <th>obesidad</th>\n    </tr>\n  </thead>\n  <tbody>\n    <tr>\n      <th>0</th>\n      <td>T</td>\n      <td>2.0</td>\n      <td>158.00</td>\n      <td>775.0</td>\n      <td>31045.0</td>\n      <td>M</td>\n      <td>2.0</td>\n      <td>2.0</td>\n      <td>6.0</td>\n      <td>31.045000</td>\n      <td>M</td>\n      <td>M</td>\n      <td>B</td>\n      <td>1</td>\n    </tr>\n    <tr>\n      <th>1</th>\n      <td>T</td>\n      <td>2.0</td>\n      <td>149.00</td>\n      <td>79.0</td>\n      <td>35584.0</td>\n      <td>F</td>\n      <td>1.0</td>\n      <td>0.0</td>\n      <td>0.0</td>\n      <td>35.584000</td>\n      <td>M</td>\n      <td>M</td>\n      <td>M</td>\n      <td>1</td>\n    </tr>\n    <tr>\n      <th>2</th>\n      <td>L</td>\n      <td>2.0</td>\n      <td>174.00</td>\n      <td>70.0</td>\n      <td>23121.0</td>\n      <td>M</td>\n      <td>1.0</td>\n      <td>1.0</td>\n      <td>1.0</td>\n      <td>23.121000</td>\n      <td>M</td>\n      <td>M</td>\n      <td>M</td>\n      <td>0</td>\n    </tr>\n    <tr>\n      <th>3</th>\n      <td>S</td>\n      <td>2.0</td>\n      <td>168.00</td>\n      <td>65.0</td>\n      <td>2303.0</td>\n      <td>M</td>\n      <td>1.0</td>\n      <td>5.0</td>\n      <td>5.0</td>\n      <td>23.030000</td>\n      <td>M</td>\n      <td>B</td>\n      <td>B</td>\n      <td>0</td>\n    </tr>\n    <tr>\n      <th>4</th>\n      <td>B</td>\n      <td>2.0</td>\n      <td>165.00</td>\n      <td>55.0</td>\n      <td>20202.0</td>\n      <td>F</td>\n      <td>6.0</td>\n      <td>6.0</td>\n      <td>6.0</td>\n      <td>20.202000</td>\n      <td>B</td>\n      <td>B</td>\n      <td>B</td>\n      <td>0</td>\n    </tr>\n    <tr>\n      <th>...</th>\n      <td>...</td>\n      <td>...</td>\n      <td>...</td>\n      <td>...</td>\n      <td>...</td>\n      <td>...</td>\n      <td>...</td>\n      <td>...</td>\n      <td>...</td>\n      <td>...</td>\n      <td>...</td>\n      <td>...</td>\n      <td>...</td>\n      <td>...</td>\n    </tr>\n    <tr>\n      <th>1914</th>\n      <td>B</td>\n      <td>2.0</td>\n      <td>1.66</td>\n      <td>67.0</td>\n      <td>NaN</td>\n      <td>M</td>\n      <td>0.0</td>\n      <td>2.0</td>\n      <td>4.0</td>\n      <td>24.314124</td>\n      <td>M</td>\n      <td>M</td>\n      <td>B</td>\n      <td>0</td>\n    </tr>\n    <tr>\n      <th>1915</th>\n      <td>B</td>\n      <td>2.0</td>\n      <td>1.60</td>\n      <td>65.0</td>\n      <td>NaN</td>\n      <td>F</td>\n      <td>0.0</td>\n      <td>2.0</td>\n      <td>4.0</td>\n      <td>25.390625</td>\n      <td>M</td>\n      <td>M</td>\n      <td>B</td>\n      <td>1</td>\n    </tr>\n    <tr>\n      <th>1916</th>\n      <td>B</td>\n      <td>2.0</td>\n      <td>1.68</td>\n      <td>88.0</td>\n      <td>NaN</td>\n      <td>F</td>\n      <td>0.0</td>\n      <td>8.0</td>\n      <td>4.0</td>\n      <td>31.179138</td>\n      <td>M</td>\n      <td>B</td>\n      <td>B</td>\n      <td>1</td>\n    </tr>\n    <tr>\n      <th>1917</th>\n      <td>B</td>\n      <td>2.0</td>\n      <td>1.62</td>\n      <td>63.0</td>\n      <td>NaN</td>\n      <td>F</td>\n      <td>1.0</td>\n      <td>5.0</td>\n      <td>5.0</td>\n      <td>24.005487</td>\n      <td>M</td>\n      <td>B</td>\n      <td>B</td>\n      <td>0</td>\n    </tr>\n    <tr>\n      <th>1918</th>\n      <td>NaN</td>\n      <td>NaN</td>\n      <td>NaN</td>\n      <td>NaN</td>\n      <td>NaN</td>\n      <td>NaN</td>\n      <td>NaN</td>\n      <td>NaN</td>\n      <td>NaN</td>\n      <td>NaN</td>\n      <td>M</td>\n      <td>M</td>\n      <td>M</td>\n      <td>0</td>\n    </tr>\n  </tbody>\n</table>\n<p>1919 rows × 14 columns</p>\n</div>"
     },
     "execution_count": 2,
     "metadata": {},
     "output_type": "execute_result"
    }
   ],
   "source": [
    "df_comp = pd.read_csv(\"C:/Users/noeam/Documents/git/github/proyecto_pt2/outputs/completo_final.csv\")\n",
    "df_comp"
   ]
  },
  {
   "cell_type": "code",
   "execution_count": 3,
   "metadata": {
    "ExecuteTime": {
     "end_time": "2023-05-16T16:19:35.350901Z",
     "start_time": "2023-05-16T16:19:35.310933900Z"
    }
   },
   "outputs": [
    {
     "name": "stdout",
     "output_type": "stream",
     "text": [
      "<class 'pandas.core.frame.DataFrame'>\n",
      "RangeIndex: 1919 entries, 0 to 1918\n",
      "Data columns (total 14 columns):\n",
      " #   Column                  Non-Null Count  Dtype  \n",
      "---  ------                  --------------  -----  \n",
      " 0   grado_estudios          1824 non-null   object \n",
      " 1   tienes_obesidad         1824 non-null   float64\n",
      " 2   estatura                1823 non-null   float64\n",
      " 3   peso_actual             1813 non-null   float64\n",
      " 4   imc                     1274 non-null   float64\n",
      " 5   sexo                    1824 non-null   object \n",
      " 6   horas_ejercicio_actual  1818 non-null   float64\n",
      " 7   horas_ejercicio_1ano    1814 non-null   float64\n",
      " 8   horas_ejercicio_5ano    1807 non-null   float64\n",
      " 9   IMC                     1813 non-null   float64\n",
      " 10  ejer_act                1919 non-null   object \n",
      " 11  ejer_1                  1919 non-null   object \n",
      " 12  ejer_5                  1919 non-null   object \n",
      " 13  obesidad                1919 non-null   int64  \n",
      "dtypes: float64(8), int64(1), object(5)\n",
      "memory usage: 210.0+ KB\n"
     ]
    }
   ],
   "source": [
    "df_comp.info()"
   ]
  },
  {
   "cell_type": "code",
   "execution_count": 4,
   "metadata": {
    "ExecuteTime": {
     "end_time": "2023-05-16T16:19:38.144862200Z",
     "start_time": "2023-05-16T16:19:38.102623700Z"
    }
   },
   "outputs": [
    {
     "data": {
      "text/plain": "    grado_estudios  tienes_obesidad  estatura  peso_actual   imc sexo   \n0                B              2.0      1.44         49.5   NaN    F  \\\n1                B              2.0      1.44         47.1   NaN    F   \n2                B              2.0      1.59         51.0  21.0    F   \n3                B              2.0      1.72         85.0  28.6    M   \n4                B              2.0      1.45         51.4  24.4    F   \n..             ...              ...       ...          ...   ...  ...   \n839              B              2.0      1.66         67.0   NaN    M   \n840              B              2.0      1.60         65.0   NaN    F   \n841              B              2.0      1.68         88.0   NaN    F   \n842              B              2.0      1.62         63.0   NaN    F   \n843            NaN              NaN       NaN          NaN   NaN  NaN   \n\n     horas_ejercicio_actual  horas_ejercicio_1ano  horas_ejercicio_5ano   \n0                       5.0                  10.0                   5.0  \\\n1                       0.0                   0.0                   1.5   \n2                       0.0                   5.0                   9.0   \n3                       3.0                   5.0                  15.0   \n4                       8.0                  15.0                  25.0   \n..                      ...                   ...                   ...   \n839                     0.0                   2.0                   4.0   \n840                     0.0                   2.0                   4.0   \n841                     0.0                   8.0                   4.0   \n842                     1.0                   5.0                   5.0   \n843                     NaN                   NaN                   NaN   \n\n     horas_suenno_calidad  suenno_diario_1ano  suenno_diario_5anos        IMC   \n0                     4.0                 9.0                  9.0  23.871528  \\\n1                     4.0                 5.0                  8.0  22.714120   \n2                     4.0                 1.0                  5.0  20.173253   \n3                     3.0                 5.0                  7.0  28.731747   \n4                     5.0                 8.0                  8.0  24.447087   \n..                    ...                 ...                  ...        ...   \n839                   5.0                 8.0                  7.0  24.314124   \n840                   4.0                 7.0                  9.0  25.390625   \n841                   1.0                 9.0                  8.0  31.179138   \n842                   3.0                 8.0                  9.0  24.005487   \n843                   NaN                 NaN                  NaN        NaN   \n\n    ejer_act ejer_1 ejer_5 suenio_act suenio_1 suenio_5  obesidad  \n0          B      B      B          M        B        B         0  \n1          M      M      M          M        M        B         0  \n2          M      B      B          M        M        M         0  \n3          B      B      B          M        M        B         1  \n4          B      B      B          M        B        B         0  \n..       ...    ...    ...        ...      ...      ...       ...  \n839        M      M      B          M        B        B         0  \n840        M      M      B          M        B        B         1  \n841        M      B      B          M        B        B         1  \n842        M      B      B          M        B        B         0  \n843        M      M      M          M        M        M         0  \n\n[844 rows x 20 columns]",
      "text/html": "<div>\n<style scoped>\n    .dataframe tbody tr th:only-of-type {\n        vertical-align: middle;\n    }\n\n    .dataframe tbody tr th {\n        vertical-align: top;\n    }\n\n    .dataframe thead th {\n        text-align: right;\n    }\n</style>\n<table border=\"1\" class=\"dataframe\">\n  <thead>\n    <tr style=\"text-align: right;\">\n      <th></th>\n      <th>grado_estudios</th>\n      <th>tienes_obesidad</th>\n      <th>estatura</th>\n      <th>peso_actual</th>\n      <th>imc</th>\n      <th>sexo</th>\n      <th>horas_ejercicio_actual</th>\n      <th>horas_ejercicio_1ano</th>\n      <th>horas_ejercicio_5ano</th>\n      <th>horas_suenno_calidad</th>\n      <th>suenno_diario_1ano</th>\n      <th>suenno_diario_5anos</th>\n      <th>IMC</th>\n      <th>ejer_act</th>\n      <th>ejer_1</th>\n      <th>ejer_5</th>\n      <th>suenio_act</th>\n      <th>suenio_1</th>\n      <th>suenio_5</th>\n      <th>obesidad</th>\n    </tr>\n  </thead>\n  <tbody>\n    <tr>\n      <th>0</th>\n      <td>B</td>\n      <td>2.0</td>\n      <td>1.44</td>\n      <td>49.5</td>\n      <td>NaN</td>\n      <td>F</td>\n      <td>5.0</td>\n      <td>10.0</td>\n      <td>5.0</td>\n      <td>4.0</td>\n      <td>9.0</td>\n      <td>9.0</td>\n      <td>23.871528</td>\n      <td>B</td>\n      <td>B</td>\n      <td>B</td>\n      <td>M</td>\n      <td>B</td>\n      <td>B</td>\n      <td>0</td>\n    </tr>\n    <tr>\n      <th>1</th>\n      <td>B</td>\n      <td>2.0</td>\n      <td>1.44</td>\n      <td>47.1</td>\n      <td>NaN</td>\n      <td>F</td>\n      <td>0.0</td>\n      <td>0.0</td>\n      <td>1.5</td>\n      <td>4.0</td>\n      <td>5.0</td>\n      <td>8.0</td>\n      <td>22.714120</td>\n      <td>M</td>\n      <td>M</td>\n      <td>M</td>\n      <td>M</td>\n      <td>M</td>\n      <td>B</td>\n      <td>0</td>\n    </tr>\n    <tr>\n      <th>2</th>\n      <td>B</td>\n      <td>2.0</td>\n      <td>1.59</td>\n      <td>51.0</td>\n      <td>21.0</td>\n      <td>F</td>\n      <td>0.0</td>\n      <td>5.0</td>\n      <td>9.0</td>\n      <td>4.0</td>\n      <td>1.0</td>\n      <td>5.0</td>\n      <td>20.173253</td>\n      <td>M</td>\n      <td>B</td>\n      <td>B</td>\n      <td>M</td>\n      <td>M</td>\n      <td>M</td>\n      <td>0</td>\n    </tr>\n    <tr>\n      <th>3</th>\n      <td>B</td>\n      <td>2.0</td>\n      <td>1.72</td>\n      <td>85.0</td>\n      <td>28.6</td>\n      <td>M</td>\n      <td>3.0</td>\n      <td>5.0</td>\n      <td>15.0</td>\n      <td>3.0</td>\n      <td>5.0</td>\n      <td>7.0</td>\n      <td>28.731747</td>\n      <td>B</td>\n      <td>B</td>\n      <td>B</td>\n      <td>M</td>\n      <td>M</td>\n      <td>B</td>\n      <td>1</td>\n    </tr>\n    <tr>\n      <th>4</th>\n      <td>B</td>\n      <td>2.0</td>\n      <td>1.45</td>\n      <td>51.4</td>\n      <td>24.4</td>\n      <td>F</td>\n      <td>8.0</td>\n      <td>15.0</td>\n      <td>25.0</td>\n      <td>5.0</td>\n      <td>8.0</td>\n      <td>8.0</td>\n      <td>24.447087</td>\n      <td>B</td>\n      <td>B</td>\n      <td>B</td>\n      <td>M</td>\n      <td>B</td>\n      <td>B</td>\n      <td>0</td>\n    </tr>\n    <tr>\n      <th>...</th>\n      <td>...</td>\n      <td>...</td>\n      <td>...</td>\n      <td>...</td>\n      <td>...</td>\n      <td>...</td>\n      <td>...</td>\n      <td>...</td>\n      <td>...</td>\n      <td>...</td>\n      <td>...</td>\n      <td>...</td>\n      <td>...</td>\n      <td>...</td>\n      <td>...</td>\n      <td>...</td>\n      <td>...</td>\n      <td>...</td>\n      <td>...</td>\n      <td>...</td>\n    </tr>\n    <tr>\n      <th>839</th>\n      <td>B</td>\n      <td>2.0</td>\n      <td>1.66</td>\n      <td>67.0</td>\n      <td>NaN</td>\n      <td>M</td>\n      <td>0.0</td>\n      <td>2.0</td>\n      <td>4.0</td>\n      <td>5.0</td>\n      <td>8.0</td>\n      <td>7.0</td>\n      <td>24.314124</td>\n      <td>M</td>\n      <td>M</td>\n      <td>B</td>\n      <td>M</td>\n      <td>B</td>\n      <td>B</td>\n      <td>0</td>\n    </tr>\n    <tr>\n      <th>840</th>\n      <td>B</td>\n      <td>2.0</td>\n      <td>1.60</td>\n      <td>65.0</td>\n      <td>NaN</td>\n      <td>F</td>\n      <td>0.0</td>\n      <td>2.0</td>\n      <td>4.0</td>\n      <td>4.0</td>\n      <td>7.0</td>\n      <td>9.0</td>\n      <td>25.390625</td>\n      <td>M</td>\n      <td>M</td>\n      <td>B</td>\n      <td>M</td>\n      <td>B</td>\n      <td>B</td>\n      <td>1</td>\n    </tr>\n    <tr>\n      <th>841</th>\n      <td>B</td>\n      <td>2.0</td>\n      <td>1.68</td>\n      <td>88.0</td>\n      <td>NaN</td>\n      <td>F</td>\n      <td>0.0</td>\n      <td>8.0</td>\n      <td>4.0</td>\n      <td>1.0</td>\n      <td>9.0</td>\n      <td>8.0</td>\n      <td>31.179138</td>\n      <td>M</td>\n      <td>B</td>\n      <td>B</td>\n      <td>M</td>\n      <td>B</td>\n      <td>B</td>\n      <td>1</td>\n    </tr>\n    <tr>\n      <th>842</th>\n      <td>B</td>\n      <td>2.0</td>\n      <td>1.62</td>\n      <td>63.0</td>\n      <td>NaN</td>\n      <td>F</td>\n      <td>1.0</td>\n      <td>5.0</td>\n      <td>5.0</td>\n      <td>3.0</td>\n      <td>8.0</td>\n      <td>9.0</td>\n      <td>24.005487</td>\n      <td>M</td>\n      <td>B</td>\n      <td>B</td>\n      <td>M</td>\n      <td>B</td>\n      <td>B</td>\n      <td>0</td>\n    </tr>\n    <tr>\n      <th>843</th>\n      <td>NaN</td>\n      <td>NaN</td>\n      <td>NaN</td>\n      <td>NaN</td>\n      <td>NaN</td>\n      <td>NaN</td>\n      <td>NaN</td>\n      <td>NaN</td>\n      <td>NaN</td>\n      <td>NaN</td>\n      <td>NaN</td>\n      <td>NaN</td>\n      <td>NaN</td>\n      <td>M</td>\n      <td>M</td>\n      <td>M</td>\n      <td>M</td>\n      <td>M</td>\n      <td>M</td>\n      <td>0</td>\n    </tr>\n  </tbody>\n</table>\n<p>844 rows × 20 columns</p>\n</div>"
     },
     "execution_count": 4,
     "metadata": {},
     "output_type": "execute_result"
    }
   ],
   "source": [
    "df_fmed = pd.read_csv(\"C:/Users/noeam/Documents/git/github/proyecto_pt2/outputs/fmed_final.csv\")\n",
    "df_fmed"
   ]
  },
  {
   "cell_type": "code",
   "execution_count": 5,
   "metadata": {
    "ExecuteTime": {
     "end_time": "2023-05-16T16:19:44.577836700Z",
     "start_time": "2023-05-16T16:19:44.550242700Z"
    }
   },
   "outputs": [
    {
     "name": "stdout",
     "output_type": "stream",
     "text": [
      "<class 'pandas.core.frame.DataFrame'>\n",
      "RangeIndex: 844 entries, 0 to 843\n",
      "Data columns (total 20 columns):\n",
      " #   Column                  Non-Null Count  Dtype  \n",
      "---  ------                  --------------  -----  \n",
      " 0   grado_estudios          749 non-null    object \n",
      " 1   tienes_obesidad         749 non-null    float64\n",
      " 2   estatura                748 non-null    float64\n",
      " 3   peso_actual             740 non-null    float64\n",
      " 4   imc                     201 non-null    float64\n",
      " 5   sexo                    749 non-null    object \n",
      " 6   horas_ejercicio_actual  743 non-null    float64\n",
      " 7   horas_ejercicio_1ano    739 non-null    float64\n",
      " 8   horas_ejercicio_5ano    732 non-null    float64\n",
      " 9   horas_suenno_calidad    749 non-null    float64\n",
      " 10  suenno_diario_1ano      749 non-null    float64\n",
      " 11  suenno_diario_5anos     749 non-null    float64\n",
      " 12  IMC                     740 non-null    float64\n",
      " 13  ejer_act                844 non-null    object \n",
      " 14  ejer_1                  844 non-null    object \n",
      " 15  ejer_5                  844 non-null    object \n",
      " 16  suenio_act              844 non-null    object \n",
      " 17  suenio_1                844 non-null    object \n",
      " 18  suenio_5                844 non-null    object \n",
      " 19  obesidad                844 non-null    int64  \n",
      "dtypes: float64(11), int64(1), object(8)\n",
      "memory usage: 132.0+ KB\n"
     ]
    }
   ],
   "source": [
    "df_fmed.info()"
   ]
  },
  {
   "cell_type": "code",
   "execution_count": 6,
   "metadata": {
    "scrolled": true,
    "ExecuteTime": {
     "end_time": "2023-05-16T16:19:52.843723500Z",
     "start_time": "2023-05-16T16:19:52.800611900Z"
    }
   },
   "outputs": [
    {
     "data": {
      "text/plain": "     grado_estudios  tienes_obesidad  estatura  peso_actual      imc sexo   \n0                 T              2.0    158.00        775.0  31045.0    M  \\\n1                 T              2.0    149.00         79.0  35584.0    F   \n2                 L              2.0    174.00         70.0  23121.0    M   \n3                 S              2.0    168.00         65.0   2303.0    M   \n4                 B              2.0    165.00         55.0  20202.0    F   \n...             ...              ...       ...          ...      ...  ...   \n1913              B              2.0      1.68         69.8      NaN    M   \n1914              B              2.0      1.66         67.0      NaN    M   \n1915              B              2.0      1.60         65.0      NaN    F   \n1916              B              2.0      1.68         88.0      NaN    F   \n1917              B              2.0      1.62         63.0      NaN    F   \n\n      horas_ejercicio_actual  horas_ejercicio_1ano  horas_ejercicio_5ano   \n0                        2.0                   2.0                   6.0  \\\n1                        1.0                   0.0                   0.0   \n2                        1.0                   1.0                   1.0   \n3                        1.0                   5.0                   5.0   \n4                        6.0                   6.0                   6.0   \n...                      ...                   ...                   ...   \n1913                     3.0                  20.0                  18.0   \n1914                     0.0                   2.0                   4.0   \n1915                     0.0                   2.0                   4.0   \n1916                     0.0                   8.0                   4.0   \n1917                     1.0                   5.0                   5.0   \n\n            IMC ejer_act ejer_1 ejer_5  obesidad  \n0     31.045000        M      M      B         1  \n1     35.584000        M      M      M         1  \n2     23.121000        M      M      M         0  \n3     23.030000        M      B      B         0  \n4     20.202000        B      B      B         0  \n...         ...      ...    ...    ...       ...  \n1913  24.730726        B      B      B         0  \n1914  24.314124        M      M      B         0  \n1915  25.390625        M      M      B         1  \n1916  31.179138        M      B      B         1  \n1917  24.005487        M      B      B         0  \n\n[1787 rows x 14 columns]",
      "text/html": "<div>\n<style scoped>\n    .dataframe tbody tr th:only-of-type {\n        vertical-align: middle;\n    }\n\n    .dataframe tbody tr th {\n        vertical-align: top;\n    }\n\n    .dataframe thead th {\n        text-align: right;\n    }\n</style>\n<table border=\"1\" class=\"dataframe\">\n  <thead>\n    <tr style=\"text-align: right;\">\n      <th></th>\n      <th>grado_estudios</th>\n      <th>tienes_obesidad</th>\n      <th>estatura</th>\n      <th>peso_actual</th>\n      <th>imc</th>\n      <th>sexo</th>\n      <th>horas_ejercicio_actual</th>\n      <th>horas_ejercicio_1ano</th>\n      <th>horas_ejercicio_5ano</th>\n      <th>IMC</th>\n      <th>ejer_act</th>\n      <th>ejer_1</th>\n      <th>ejer_5</th>\n      <th>obesidad</th>\n    </tr>\n  </thead>\n  <tbody>\n    <tr>\n      <th>0</th>\n      <td>T</td>\n      <td>2.0</td>\n      <td>158.00</td>\n      <td>775.0</td>\n      <td>31045.0</td>\n      <td>M</td>\n      <td>2.0</td>\n      <td>2.0</td>\n      <td>6.0</td>\n      <td>31.045000</td>\n      <td>M</td>\n      <td>M</td>\n      <td>B</td>\n      <td>1</td>\n    </tr>\n    <tr>\n      <th>1</th>\n      <td>T</td>\n      <td>2.0</td>\n      <td>149.00</td>\n      <td>79.0</td>\n      <td>35584.0</td>\n      <td>F</td>\n      <td>1.0</td>\n      <td>0.0</td>\n      <td>0.0</td>\n      <td>35.584000</td>\n      <td>M</td>\n      <td>M</td>\n      <td>M</td>\n      <td>1</td>\n    </tr>\n    <tr>\n      <th>2</th>\n      <td>L</td>\n      <td>2.0</td>\n      <td>174.00</td>\n      <td>70.0</td>\n      <td>23121.0</td>\n      <td>M</td>\n      <td>1.0</td>\n      <td>1.0</td>\n      <td>1.0</td>\n      <td>23.121000</td>\n      <td>M</td>\n      <td>M</td>\n      <td>M</td>\n      <td>0</td>\n    </tr>\n    <tr>\n      <th>3</th>\n      <td>S</td>\n      <td>2.0</td>\n      <td>168.00</td>\n      <td>65.0</td>\n      <td>2303.0</td>\n      <td>M</td>\n      <td>1.0</td>\n      <td>5.0</td>\n      <td>5.0</td>\n      <td>23.030000</td>\n      <td>M</td>\n      <td>B</td>\n      <td>B</td>\n      <td>0</td>\n    </tr>\n    <tr>\n      <th>4</th>\n      <td>B</td>\n      <td>2.0</td>\n      <td>165.00</td>\n      <td>55.0</td>\n      <td>20202.0</td>\n      <td>F</td>\n      <td>6.0</td>\n      <td>6.0</td>\n      <td>6.0</td>\n      <td>20.202000</td>\n      <td>B</td>\n      <td>B</td>\n      <td>B</td>\n      <td>0</td>\n    </tr>\n    <tr>\n      <th>...</th>\n      <td>...</td>\n      <td>...</td>\n      <td>...</td>\n      <td>...</td>\n      <td>...</td>\n      <td>...</td>\n      <td>...</td>\n      <td>...</td>\n      <td>...</td>\n      <td>...</td>\n      <td>...</td>\n      <td>...</td>\n      <td>...</td>\n      <td>...</td>\n    </tr>\n    <tr>\n      <th>1913</th>\n      <td>B</td>\n      <td>2.0</td>\n      <td>1.68</td>\n      <td>69.8</td>\n      <td>NaN</td>\n      <td>M</td>\n      <td>3.0</td>\n      <td>20.0</td>\n      <td>18.0</td>\n      <td>24.730726</td>\n      <td>B</td>\n      <td>B</td>\n      <td>B</td>\n      <td>0</td>\n    </tr>\n    <tr>\n      <th>1914</th>\n      <td>B</td>\n      <td>2.0</td>\n      <td>1.66</td>\n      <td>67.0</td>\n      <td>NaN</td>\n      <td>M</td>\n      <td>0.0</td>\n      <td>2.0</td>\n      <td>4.0</td>\n      <td>24.314124</td>\n      <td>M</td>\n      <td>M</td>\n      <td>B</td>\n      <td>0</td>\n    </tr>\n    <tr>\n      <th>1915</th>\n      <td>B</td>\n      <td>2.0</td>\n      <td>1.60</td>\n      <td>65.0</td>\n      <td>NaN</td>\n      <td>F</td>\n      <td>0.0</td>\n      <td>2.0</td>\n      <td>4.0</td>\n      <td>25.390625</td>\n      <td>M</td>\n      <td>M</td>\n      <td>B</td>\n      <td>1</td>\n    </tr>\n    <tr>\n      <th>1916</th>\n      <td>B</td>\n      <td>2.0</td>\n      <td>1.68</td>\n      <td>88.0</td>\n      <td>NaN</td>\n      <td>F</td>\n      <td>0.0</td>\n      <td>8.0</td>\n      <td>4.0</td>\n      <td>31.179138</td>\n      <td>M</td>\n      <td>B</td>\n      <td>B</td>\n      <td>1</td>\n    </tr>\n    <tr>\n      <th>1917</th>\n      <td>B</td>\n      <td>2.0</td>\n      <td>1.62</td>\n      <td>63.0</td>\n      <td>NaN</td>\n      <td>F</td>\n      <td>1.0</td>\n      <td>5.0</td>\n      <td>5.0</td>\n      <td>24.005487</td>\n      <td>M</td>\n      <td>B</td>\n      <td>B</td>\n      <td>0</td>\n    </tr>\n  </tbody>\n</table>\n<p>1787 rows × 14 columns</p>\n</div>"
     },
     "execution_count": 6,
     "metadata": {},
     "output_type": "execute_result"
    }
   ],
   "source": [
    "df_comp = df_comp.dropna(subset=['IMC', 'horas_ejercicio_actual', 'horas_ejercicio_1ano', 'horas_ejercicio_5ano'])\n",
    "df_comp"
   ]
  },
  {
   "cell_type": "code",
   "execution_count": 11,
   "metadata": {
    "ExecuteTime": {
     "end_time": "2023-05-10T22:25:27.886545Z",
     "start_time": "2023-05-10T22:25:27.854878Z"
    }
   },
   "outputs": [],
   "source": [
    "#df_comp = df_comp.dropna(subset=['horas_ejercicio_actual', 'horas_ejercicio_1ano', 'horas_ejercicio_5ano', 'IMC'])\n",
    "#df_comp"
   ]
  },
  {
   "cell_type": "code",
   "execution_count": 7,
   "metadata": {
    "ExecuteTime": {
     "end_time": "2023-05-16T16:19:56.894542300Z",
     "start_time": "2023-05-16T16:19:56.858208200Z"
    }
   },
   "outputs": [
    {
     "data": {
      "text/plain": "grado_estudios              0\ntienes_obesidad             0\nestatura                    0\npeso_actual                 0\nimc                       534\nsexo                        0\nhoras_ejercicio_actual      0\nhoras_ejercicio_1ano        0\nhoras_ejercicio_5ano        0\nIMC                         0\nejer_act                    0\nejer_1                      0\nejer_5                      0\nobesidad                    0\ndtype: int64"
     },
     "execution_count": 7,
     "metadata": {},
     "output_type": "execute_result"
    }
   ],
   "source": [
    "df_comp.isnull().sum()"
   ]
  },
  {
   "cell_type": "code",
   "execution_count": 8,
   "metadata": {
    "ExecuteTime": {
     "end_time": "2023-05-16T16:20:00.897537300Z",
     "start_time": "2023-05-16T16:20:00.880129800Z"
    }
   },
   "outputs": [
    {
     "data": {
      "text/plain": "    grado_estudios  tienes_obesidad  estatura  peso_actual   imc sexo   \n0                B              2.0      1.44         49.5   NaN    F  \\\n1                B              2.0      1.44         47.1   NaN    F   \n2                B              2.0      1.59         51.0  21.0    F   \n3                B              2.0      1.72         85.0  28.6    M   \n4                B              2.0      1.45         51.4  24.4    F   \n..             ...              ...       ...          ...   ...  ...   \n838              B              2.0      1.68         69.8   NaN    M   \n839              B              2.0      1.66         67.0   NaN    M   \n840              B              2.0      1.60         65.0   NaN    F   \n841              B              2.0      1.68         88.0   NaN    F   \n842              B              2.0      1.62         63.0   NaN    F   \n\n     horas_ejercicio_actual  horas_ejercicio_1ano  horas_ejercicio_5ano   \n0                       5.0                  10.0                   5.0  \\\n1                       0.0                   0.0                   1.5   \n2                       0.0                   5.0                   9.0   \n3                       3.0                   5.0                  15.0   \n4                       8.0                  15.0                  25.0   \n..                      ...                   ...                   ...   \n838                     3.0                  20.0                  18.0   \n839                     0.0                   2.0                   4.0   \n840                     0.0                   2.0                   4.0   \n841                     0.0                   8.0                   4.0   \n842                     1.0                   5.0                   5.0   \n\n     horas_suenno_calidad  suenno_diario_1ano  suenno_diario_5anos        IMC   \n0                     4.0                 9.0                  9.0  23.871528  \\\n1                     4.0                 5.0                  8.0  22.714120   \n2                     4.0                 1.0                  5.0  20.173253   \n3                     3.0                 5.0                  7.0  28.731747   \n4                     5.0                 8.0                  8.0  24.447087   \n..                    ...                 ...                  ...        ...   \n838                   6.0                 7.0                  8.0  24.730726   \n839                   5.0                 8.0                  7.0  24.314124   \n840                   4.0                 7.0                  9.0  25.390625   \n841                   1.0                 9.0                  8.0  31.179138   \n842                   3.0                 8.0                  9.0  24.005487   \n\n    ejer_act ejer_1 ejer_5 suenio_act suenio_1 suenio_5  obesidad  \n0          B      B      B          M        B        B         0  \n1          M      M      M          M        M        B         0  \n2          M      B      B          M        M        M         0  \n3          B      B      B          M        M        B         1  \n4          B      B      B          M        B        B         0  \n..       ...    ...    ...        ...      ...      ...       ...  \n838        B      B      B          M        B        B         0  \n839        M      M      B          M        B        B         0  \n840        M      M      B          M        B        B         1  \n841        M      B      B          M        B        B         1  \n842        M      B      B          M        B        B         0  \n\n[714 rows x 20 columns]",
      "text/html": "<div>\n<style scoped>\n    .dataframe tbody tr th:only-of-type {\n        vertical-align: middle;\n    }\n\n    .dataframe tbody tr th {\n        vertical-align: top;\n    }\n\n    .dataframe thead th {\n        text-align: right;\n    }\n</style>\n<table border=\"1\" class=\"dataframe\">\n  <thead>\n    <tr style=\"text-align: right;\">\n      <th></th>\n      <th>grado_estudios</th>\n      <th>tienes_obesidad</th>\n      <th>estatura</th>\n      <th>peso_actual</th>\n      <th>imc</th>\n      <th>sexo</th>\n      <th>horas_ejercicio_actual</th>\n      <th>horas_ejercicio_1ano</th>\n      <th>horas_ejercicio_5ano</th>\n      <th>horas_suenno_calidad</th>\n      <th>suenno_diario_1ano</th>\n      <th>suenno_diario_5anos</th>\n      <th>IMC</th>\n      <th>ejer_act</th>\n      <th>ejer_1</th>\n      <th>ejer_5</th>\n      <th>suenio_act</th>\n      <th>suenio_1</th>\n      <th>suenio_5</th>\n      <th>obesidad</th>\n    </tr>\n  </thead>\n  <tbody>\n    <tr>\n      <th>0</th>\n      <td>B</td>\n      <td>2.0</td>\n      <td>1.44</td>\n      <td>49.5</td>\n      <td>NaN</td>\n      <td>F</td>\n      <td>5.0</td>\n      <td>10.0</td>\n      <td>5.0</td>\n      <td>4.0</td>\n      <td>9.0</td>\n      <td>9.0</td>\n      <td>23.871528</td>\n      <td>B</td>\n      <td>B</td>\n      <td>B</td>\n      <td>M</td>\n      <td>B</td>\n      <td>B</td>\n      <td>0</td>\n    </tr>\n    <tr>\n      <th>1</th>\n      <td>B</td>\n      <td>2.0</td>\n      <td>1.44</td>\n      <td>47.1</td>\n      <td>NaN</td>\n      <td>F</td>\n      <td>0.0</td>\n      <td>0.0</td>\n      <td>1.5</td>\n      <td>4.0</td>\n      <td>5.0</td>\n      <td>8.0</td>\n      <td>22.714120</td>\n      <td>M</td>\n      <td>M</td>\n      <td>M</td>\n      <td>M</td>\n      <td>M</td>\n      <td>B</td>\n      <td>0</td>\n    </tr>\n    <tr>\n      <th>2</th>\n      <td>B</td>\n      <td>2.0</td>\n      <td>1.59</td>\n      <td>51.0</td>\n      <td>21.0</td>\n      <td>F</td>\n      <td>0.0</td>\n      <td>5.0</td>\n      <td>9.0</td>\n      <td>4.0</td>\n      <td>1.0</td>\n      <td>5.0</td>\n      <td>20.173253</td>\n      <td>M</td>\n      <td>B</td>\n      <td>B</td>\n      <td>M</td>\n      <td>M</td>\n      <td>M</td>\n      <td>0</td>\n    </tr>\n    <tr>\n      <th>3</th>\n      <td>B</td>\n      <td>2.0</td>\n      <td>1.72</td>\n      <td>85.0</td>\n      <td>28.6</td>\n      <td>M</td>\n      <td>3.0</td>\n      <td>5.0</td>\n      <td>15.0</td>\n      <td>3.0</td>\n      <td>5.0</td>\n      <td>7.0</td>\n      <td>28.731747</td>\n      <td>B</td>\n      <td>B</td>\n      <td>B</td>\n      <td>M</td>\n      <td>M</td>\n      <td>B</td>\n      <td>1</td>\n    </tr>\n    <tr>\n      <th>4</th>\n      <td>B</td>\n      <td>2.0</td>\n      <td>1.45</td>\n      <td>51.4</td>\n      <td>24.4</td>\n      <td>F</td>\n      <td>8.0</td>\n      <td>15.0</td>\n      <td>25.0</td>\n      <td>5.0</td>\n      <td>8.0</td>\n      <td>8.0</td>\n      <td>24.447087</td>\n      <td>B</td>\n      <td>B</td>\n      <td>B</td>\n      <td>M</td>\n      <td>B</td>\n      <td>B</td>\n      <td>0</td>\n    </tr>\n    <tr>\n      <th>...</th>\n      <td>...</td>\n      <td>...</td>\n      <td>...</td>\n      <td>...</td>\n      <td>...</td>\n      <td>...</td>\n      <td>...</td>\n      <td>...</td>\n      <td>...</td>\n      <td>...</td>\n      <td>...</td>\n      <td>...</td>\n      <td>...</td>\n      <td>...</td>\n      <td>...</td>\n      <td>...</td>\n      <td>...</td>\n      <td>...</td>\n      <td>...</td>\n      <td>...</td>\n    </tr>\n    <tr>\n      <th>838</th>\n      <td>B</td>\n      <td>2.0</td>\n      <td>1.68</td>\n      <td>69.8</td>\n      <td>NaN</td>\n      <td>M</td>\n      <td>3.0</td>\n      <td>20.0</td>\n      <td>18.0</td>\n      <td>6.0</td>\n      <td>7.0</td>\n      <td>8.0</td>\n      <td>24.730726</td>\n      <td>B</td>\n      <td>B</td>\n      <td>B</td>\n      <td>M</td>\n      <td>B</td>\n      <td>B</td>\n      <td>0</td>\n    </tr>\n    <tr>\n      <th>839</th>\n      <td>B</td>\n      <td>2.0</td>\n      <td>1.66</td>\n      <td>67.0</td>\n      <td>NaN</td>\n      <td>M</td>\n      <td>0.0</td>\n      <td>2.0</td>\n      <td>4.0</td>\n      <td>5.0</td>\n      <td>8.0</td>\n      <td>7.0</td>\n      <td>24.314124</td>\n      <td>M</td>\n      <td>M</td>\n      <td>B</td>\n      <td>M</td>\n      <td>B</td>\n      <td>B</td>\n      <td>0</td>\n    </tr>\n    <tr>\n      <th>840</th>\n      <td>B</td>\n      <td>2.0</td>\n      <td>1.60</td>\n      <td>65.0</td>\n      <td>NaN</td>\n      <td>F</td>\n      <td>0.0</td>\n      <td>2.0</td>\n      <td>4.0</td>\n      <td>4.0</td>\n      <td>7.0</td>\n      <td>9.0</td>\n      <td>25.390625</td>\n      <td>M</td>\n      <td>M</td>\n      <td>B</td>\n      <td>M</td>\n      <td>B</td>\n      <td>B</td>\n      <td>1</td>\n    </tr>\n    <tr>\n      <th>841</th>\n      <td>B</td>\n      <td>2.0</td>\n      <td>1.68</td>\n      <td>88.0</td>\n      <td>NaN</td>\n      <td>F</td>\n      <td>0.0</td>\n      <td>8.0</td>\n      <td>4.0</td>\n      <td>1.0</td>\n      <td>9.0</td>\n      <td>8.0</td>\n      <td>31.179138</td>\n      <td>M</td>\n      <td>B</td>\n      <td>B</td>\n      <td>M</td>\n      <td>B</td>\n      <td>B</td>\n      <td>1</td>\n    </tr>\n    <tr>\n      <th>842</th>\n      <td>B</td>\n      <td>2.0</td>\n      <td>1.62</td>\n      <td>63.0</td>\n      <td>NaN</td>\n      <td>F</td>\n      <td>1.0</td>\n      <td>5.0</td>\n      <td>5.0</td>\n      <td>3.0</td>\n      <td>8.0</td>\n      <td>9.0</td>\n      <td>24.005487</td>\n      <td>M</td>\n      <td>B</td>\n      <td>B</td>\n      <td>M</td>\n      <td>B</td>\n      <td>B</td>\n      <td>0</td>\n    </tr>\n  </tbody>\n</table>\n<p>714 rows × 20 columns</p>\n</div>"
     },
     "execution_count": 8,
     "metadata": {},
     "output_type": "execute_result"
    }
   ],
   "source": [
    "df_fmed = df_fmed.dropna(subset=['IMC', 'horas_ejercicio_actual', 'horas_ejercicio_1ano', 'horas_ejercicio_5ano', 'horas_suenno_calidad', 'suenno_diario_1ano', 'suenno_diario_5anos'])\n",
    "df_fmed"
   ]
  },
  {
   "cell_type": "code",
   "execution_count": 9,
   "metadata": {
    "ExecuteTime": {
     "end_time": "2023-05-16T16:20:04.385877400Z",
     "start_time": "2023-05-16T16:20:04.349567300Z"
    }
   },
   "outputs": [
    {
     "data": {
      "text/plain": "grado_estudios              0\ntienes_obesidad             0\nestatura                    0\npeso_actual                 0\nimc                       534\nsexo                        0\nhoras_ejercicio_actual      0\nhoras_ejercicio_1ano        0\nhoras_ejercicio_5ano        0\nhoras_suenno_calidad        0\nsuenno_diario_1ano          0\nsuenno_diario_5anos         0\nIMC                         0\nejer_act                    0\nejer_1                      0\nejer_5                      0\nsuenio_act                  0\nsuenio_1                    0\nsuenio_5                    0\nobesidad                    0\ndtype: int64"
     },
     "execution_count": 9,
     "metadata": {},
     "output_type": "execute_result"
    }
   ],
   "source": [
    "df_fmed.isnull().sum()"
   ]
  },
  {
   "cell_type": "markdown",
   "metadata": {},
   "source": [
    "# Inicia visualizacion"
   ]
  },
  {
   "cell_type": "code",
   "execution_count": 10,
   "metadata": {
    "ExecuteTime": {
     "end_time": "2023-05-16T16:21:06.655556200Z",
     "start_time": "2023-05-16T16:21:06.620948600Z"
    }
   },
   "outputs": [
    {
     "data": {
      "text/plain": "      obesidad sexo grado_estudios ejer_act ejer_1 ejer_5\n0            1    M              T        M      M      B\n1            1    F              T        M      M      M\n2            0    M              L        M      M      M\n3            0    M              S        M      B      B\n4            0    F              B        B      B      B\n...        ...  ...            ...      ...    ...    ...\n1913         0    M              B        B      B      B\n1914         0    M              B        M      M      B\n1915         1    F              B        M      M      B\n1916         1    F              B        M      B      B\n1917         0    F              B        M      B      B\n\n[1787 rows x 6 columns]",
      "text/html": "<div>\n<style scoped>\n    .dataframe tbody tr th:only-of-type {\n        vertical-align: middle;\n    }\n\n    .dataframe tbody tr th {\n        vertical-align: top;\n    }\n\n    .dataframe thead th {\n        text-align: right;\n    }\n</style>\n<table border=\"1\" class=\"dataframe\">\n  <thead>\n    <tr style=\"text-align: right;\">\n      <th></th>\n      <th>obesidad</th>\n      <th>sexo</th>\n      <th>grado_estudios</th>\n      <th>ejer_act</th>\n      <th>ejer_1</th>\n      <th>ejer_5</th>\n    </tr>\n  </thead>\n  <tbody>\n    <tr>\n      <th>0</th>\n      <td>1</td>\n      <td>M</td>\n      <td>T</td>\n      <td>M</td>\n      <td>M</td>\n      <td>B</td>\n    </tr>\n    <tr>\n      <th>1</th>\n      <td>1</td>\n      <td>F</td>\n      <td>T</td>\n      <td>M</td>\n      <td>M</td>\n      <td>M</td>\n    </tr>\n    <tr>\n      <th>2</th>\n      <td>0</td>\n      <td>M</td>\n      <td>L</td>\n      <td>M</td>\n      <td>M</td>\n      <td>M</td>\n    </tr>\n    <tr>\n      <th>3</th>\n      <td>0</td>\n      <td>M</td>\n      <td>S</td>\n      <td>M</td>\n      <td>B</td>\n      <td>B</td>\n    </tr>\n    <tr>\n      <th>4</th>\n      <td>0</td>\n      <td>F</td>\n      <td>B</td>\n      <td>B</td>\n      <td>B</td>\n      <td>B</td>\n    </tr>\n    <tr>\n      <th>...</th>\n      <td>...</td>\n      <td>...</td>\n      <td>...</td>\n      <td>...</td>\n      <td>...</td>\n      <td>...</td>\n    </tr>\n    <tr>\n      <th>1913</th>\n      <td>0</td>\n      <td>M</td>\n      <td>B</td>\n      <td>B</td>\n      <td>B</td>\n      <td>B</td>\n    </tr>\n    <tr>\n      <th>1914</th>\n      <td>0</td>\n      <td>M</td>\n      <td>B</td>\n      <td>M</td>\n      <td>M</td>\n      <td>B</td>\n    </tr>\n    <tr>\n      <th>1915</th>\n      <td>1</td>\n      <td>F</td>\n      <td>B</td>\n      <td>M</td>\n      <td>M</td>\n      <td>B</td>\n    </tr>\n    <tr>\n      <th>1916</th>\n      <td>1</td>\n      <td>F</td>\n      <td>B</td>\n      <td>M</td>\n      <td>B</td>\n      <td>B</td>\n    </tr>\n    <tr>\n      <th>1917</th>\n      <td>0</td>\n      <td>F</td>\n      <td>B</td>\n      <td>M</td>\n      <td>B</td>\n      <td>B</td>\n    </tr>\n  </tbody>\n</table>\n<p>1787 rows × 6 columns</p>\n</div>"
     },
     "execution_count": 10,
     "metadata": {},
     "output_type": "execute_result"
    }
   ],
   "source": [
    "variables_comp = ['obesidad', 'sexo', 'grado_estudios', 'ejer_act', 'ejer_1', 'ejer_5']\n",
    "df_comp_sel = df_comp[variables_comp]\n",
    "df_comp_sel"
   ]
  },
  {
   "cell_type": "code",
   "execution_count": 11,
   "metadata": {
    "ExecuteTime": {
     "end_time": "2023-05-16T16:21:37.602913400Z",
     "start_time": "2023-05-16T16:21:37.563565200Z"
    }
   },
   "outputs": [
    {
     "data": {
      "text/plain": "     obesidad sexo grado_estudios ejer_act ejer_1 ejer_5 suenio_act suenio_1   \n0           0    F              B        B      B      B          M        B  \\\n1           0    F              B        M      M      M          M        M   \n2           0    F              B        M      B      B          M        M   \n3           1    M              B        B      B      B          M        M   \n4           0    F              B        B      B      B          M        B   \n..        ...  ...            ...      ...    ...    ...        ...      ...   \n838         0    M              B        B      B      B          M        B   \n839         0    M              B        M      M      B          M        B   \n840         1    F              B        M      M      B          M        B   \n841         1    F              B        M      B      B          M        B   \n842         0    F              B        M      B      B          M        B   \n\n    suenio_5  \n0          B  \n1          B  \n2          M  \n3          B  \n4          B  \n..       ...  \n838        B  \n839        B  \n840        B  \n841        B  \n842        B  \n\n[714 rows x 9 columns]",
      "text/html": "<div>\n<style scoped>\n    .dataframe tbody tr th:only-of-type {\n        vertical-align: middle;\n    }\n\n    .dataframe tbody tr th {\n        vertical-align: top;\n    }\n\n    .dataframe thead th {\n        text-align: right;\n    }\n</style>\n<table border=\"1\" class=\"dataframe\">\n  <thead>\n    <tr style=\"text-align: right;\">\n      <th></th>\n      <th>obesidad</th>\n      <th>sexo</th>\n      <th>grado_estudios</th>\n      <th>ejer_act</th>\n      <th>ejer_1</th>\n      <th>ejer_5</th>\n      <th>suenio_act</th>\n      <th>suenio_1</th>\n      <th>suenio_5</th>\n    </tr>\n  </thead>\n  <tbody>\n    <tr>\n      <th>0</th>\n      <td>0</td>\n      <td>F</td>\n      <td>B</td>\n      <td>B</td>\n      <td>B</td>\n      <td>B</td>\n      <td>M</td>\n      <td>B</td>\n      <td>B</td>\n    </tr>\n    <tr>\n      <th>1</th>\n      <td>0</td>\n      <td>F</td>\n      <td>B</td>\n      <td>M</td>\n      <td>M</td>\n      <td>M</td>\n      <td>M</td>\n      <td>M</td>\n      <td>B</td>\n    </tr>\n    <tr>\n      <th>2</th>\n      <td>0</td>\n      <td>F</td>\n      <td>B</td>\n      <td>M</td>\n      <td>B</td>\n      <td>B</td>\n      <td>M</td>\n      <td>M</td>\n      <td>M</td>\n    </tr>\n    <tr>\n      <th>3</th>\n      <td>1</td>\n      <td>M</td>\n      <td>B</td>\n      <td>B</td>\n      <td>B</td>\n      <td>B</td>\n      <td>M</td>\n      <td>M</td>\n      <td>B</td>\n    </tr>\n    <tr>\n      <th>4</th>\n      <td>0</td>\n      <td>F</td>\n      <td>B</td>\n      <td>B</td>\n      <td>B</td>\n      <td>B</td>\n      <td>M</td>\n      <td>B</td>\n      <td>B</td>\n    </tr>\n    <tr>\n      <th>...</th>\n      <td>...</td>\n      <td>...</td>\n      <td>...</td>\n      <td>...</td>\n      <td>...</td>\n      <td>...</td>\n      <td>...</td>\n      <td>...</td>\n      <td>...</td>\n    </tr>\n    <tr>\n      <th>838</th>\n      <td>0</td>\n      <td>M</td>\n      <td>B</td>\n      <td>B</td>\n      <td>B</td>\n      <td>B</td>\n      <td>M</td>\n      <td>B</td>\n      <td>B</td>\n    </tr>\n    <tr>\n      <th>839</th>\n      <td>0</td>\n      <td>M</td>\n      <td>B</td>\n      <td>M</td>\n      <td>M</td>\n      <td>B</td>\n      <td>M</td>\n      <td>B</td>\n      <td>B</td>\n    </tr>\n    <tr>\n      <th>840</th>\n      <td>1</td>\n      <td>F</td>\n      <td>B</td>\n      <td>M</td>\n      <td>M</td>\n      <td>B</td>\n      <td>M</td>\n      <td>B</td>\n      <td>B</td>\n    </tr>\n    <tr>\n      <th>841</th>\n      <td>1</td>\n      <td>F</td>\n      <td>B</td>\n      <td>M</td>\n      <td>B</td>\n      <td>B</td>\n      <td>M</td>\n      <td>B</td>\n      <td>B</td>\n    </tr>\n    <tr>\n      <th>842</th>\n      <td>0</td>\n      <td>F</td>\n      <td>B</td>\n      <td>M</td>\n      <td>B</td>\n      <td>B</td>\n      <td>M</td>\n      <td>B</td>\n      <td>B</td>\n    </tr>\n  </tbody>\n</table>\n<p>714 rows × 9 columns</p>\n</div>"
     },
     "execution_count": 11,
     "metadata": {},
     "output_type": "execute_result"
    }
   ],
   "source": [
    "variables_fmed = ['obesidad', 'sexo', 'grado_estudios', 'ejer_act', 'ejer_1', 'ejer_5', 'suenio_act', 'suenio_1', 'suenio_5']\n",
    "df_fmed_sel = df_fmed[variables_fmed]\n",
    "df_fmed_sel"
   ]
  },
  {
   "cell_type": "code",
   "execution_count": 12,
   "metadata": {
    "ExecuteTime": {
     "end_time": "2023-05-16T16:21:46.865921800Z",
     "start_time": "2023-05-16T16:21:46.834542900Z"
    }
   },
   "outputs": [],
   "source": [
    "df_comp_sel.to_csv('~/Documents/git/github/proyecto_pt2/outputs/completo_seleccionadas.csv', index=False, header=True)\n",
    "df_fmed_sel.to_csv('~/Documents/git/github/proyecto_pt2/outputs/fmed_seleccionadas.csv', index=False, header=True)"
   ]
  },
  {
   "cell_type": "code",
   "execution_count": null,
   "metadata": {},
   "outputs": [],
   "source": []
  }
 ],
 "metadata": {
  "kernelspec": {
   "display_name": "Python 3 (ipykernel)",
   "language": "python",
   "name": "python3"
  },
  "language_info": {
   "codemirror_mode": {
    "name": "ipython",
    "version": 3
   },
   "file_extension": ".py",
   "mimetype": "text/x-python",
   "name": "python",
   "nbconvert_exporter": "python",
   "pygments_lexer": "ipython3",
   "version": "3.10.4"
  }
 },
 "nbformat": 4,
 "nbformat_minor": 1
}
